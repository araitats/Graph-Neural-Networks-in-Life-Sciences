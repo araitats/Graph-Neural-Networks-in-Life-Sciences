{
 "cells": [
  {
   "cell_type": "markdown",
   "id": "fbe3e9bc",
   "metadata": {},
   "source": [
    "# Neptune ML"
   ]
  },
  {
   "cell_type": "markdown",
   "id": "8f871df1",
   "metadata": {},
   "source": [
    "In this notebook, we will walk through the process of uploading our processed data to an Amazon Neptune database, querying the database with Gremlin, and using Neptune ML to train and deploy a machine learning-powered link prediction model.\n",
    "\n",
    "As a first step, read through the following documentation.  When you're ready to proceed, click the \"Launch Stack\" button for your desired AWS region to launch the CloudFormation stack in your account.  This will take care of creating the Neptune DB instance as well as the necessary infrastructure for Neptune ML.\n",
    "\n",
    "https://docs.aws.amazon.com/neptune/latest/userguide/machine-learning.html"
   ]
  },
  {
   "cell_type": "markdown",
   "id": "d1aadc74",
   "metadata": {},
   "source": [
    "Once the stack has been fully deployed, launch this notebook on the SageMaker Notebook instance that has been created by the stack.  Then you may run the following cells to import the included Neptune ML utilities we will use later on."
   ]
  },
  {
   "cell_type": "code",
   "execution_count": 1,
   "id": "f9070f10",
   "metadata": {},
   "outputs": [],
   "source": [
    "import sys\n",
    "sys.path.insert(0,'/home/ec2-user/SageMaker/Neptune/04-Machine-Learning')"
   ]
  },
  {
   "cell_type": "code",
   "execution_count": 2,
   "id": "373ba29a",
   "metadata": {},
   "outputs": [
    {
     "name": "stdout",
     "output_type": "stream",
     "text": [
      "This Neptune cluster is configured to use Neptune ML\n"
     ]
    }
   ],
   "source": [
    "import neptune_ml_utils as neptune_ml\n",
    "neptune_ml.check_ml_enabled()"
   ]
  },
  {
   "cell_type": "code",
   "execution_count": 3,
   "id": "ee572ccf",
   "metadata": {},
   "outputs": [],
   "source": [
    "s3_bucket_uri = \"s3://hcls-kg-workshop\""
   ]
  },
  {
   "cell_type": "markdown",
   "id": "0a11a7ad",
   "metadata": {},
   "source": [
    "## Reset cluster (optional)"
   ]
  },
  {
   "cell_type": "markdown",
   "id": "3b3274e2",
   "metadata": {},
   "source": [
    "Before we begin, we may clear out existing data from the Neptune DB instance if desired."
   ]
  },
  {
   "cell_type": "code",
   "execution_count": 4,
   "id": "ef1dc812",
   "metadata": {},
   "outputs": [],
   "source": [
    "import requests\n",
    "url = 'https://' + neptune_ml.get_host() + \":8182/system\""
   ]
  },
  {
   "cell_type": "markdown",
   "id": "5111eb6b",
   "metadata": {},
   "source": [
    "### Initiate reset"
   ]
  },
  {
   "cell_type": "code",
   "execution_count": 5,
   "id": "023425df",
   "metadata": {},
   "outputs": [
    {
     "name": "stdout",
     "output_type": "stream",
     "text": [
      "{'status': '200 OK', 'payload': {'token': '9ec0dac5-e8a6-900e-fd07-12e66d7f1678'}}\n"
     ]
    }
   ],
   "source": [
    "init_headers = {'Content-Type': 'application/json'}\n",
    "init_payload = '{ \"action\" : \"initiateDatabaseReset\" }'\n",
    "init_result = requests.post(url, data=init_payload, headers=init_headers)\n",
    "print(init_result.json())"
   ]
  },
  {
   "cell_type": "markdown",
   "id": "7c61d25a",
   "metadata": {},
   "source": [
    "### Execute reset"
   ]
  },
  {
   "cell_type": "code",
   "execution_count": 6,
   "id": "d4c7cc15",
   "metadata": {},
   "outputs": [
    {
     "name": "stdout",
     "output_type": "stream",
     "text": [
      "{'status': '200 OK'}\n"
     ]
    }
   ],
   "source": [
    "exec_headers = {'Content-Type': 'application/x-www-form-urlencoded'}\n",
    "exec_payload = 'action=performDatabaseReset&token=' + init_result.json()['payload']['token']\n",
    "exec_result = requests.post(url, data=exec_payload, headers=exec_headers)\n",
    "print(exec_result.json())"
   ]
  },
  {
   "cell_type": "markdown",
   "id": "1dc4f463",
   "metadata": {},
   "source": [
    "## Load data from S3 into cluster"
   ]
  },
  {
   "cell_type": "markdown",
   "id": "f16bc5e5",
   "metadata": {},
   "source": [
    "We set the value of `s3_prefix` in the next cell to the S3 path to the CSVs processed for Gremlin in the prior notebook.  Then run the subsequent cell with the `%load` line magic to upload all of the nodes and edges we have created to the Neptune DB."
   ]
  },
  {
   "cell_type": "code",
   "execution_count": 9,
   "id": "5bdf07f0",
   "metadata": {},
   "outputs": [],
   "source": [
    "import os\n",
    "\n",
    "# s3_prefix = \"gremlin_data/2021_08_04_13_17_13/\"\n",
    "# s3_prefix = \"stdized-data-new/comprehend_results/gremlin_data_repeat/\"\n",
    "s3_prefix = \"stdized-data-new/comprehend_results/gremlin_data_from_pubmed_reduced100_node_v1_2/\"\n",
    "s3_location = os.path.join(s3_bucket_uri, s3_prefix)"
   ]
  },
  {
   "cell_type": "code",
   "execution_count": 10,
   "id": "26943aca",
   "metadata": {},
   "outputs": [
    {
     "data": {
      "application/vnd.jupyter.widget-view+json": {
       "model_id": "",
       "version_major": 2,
       "version_minor": 0
      },
      "text/plain": [
       "HBox(children=(Label(value='Source:', layout=Layout(display='flex', justify_content='flex-end', width='16%')),…"
      ]
     },
     "metadata": {},
     "output_type": "display_data"
    },
    {
     "data": {
      "application/vnd.jupyter.widget-view+json": {
       "model_id": "",
       "version_major": 2,
       "version_minor": 0
      },
      "text/plain": [
       "HBox(children=(Label(value='Format:', layout=Layout(display='flex', justify_content='flex-end', width='16%')),…"
      ]
     },
     "metadata": {},
     "output_type": "display_data"
    },
    {
     "data": {
      "application/vnd.jupyter.widget-view+json": {
       "model_id": "",
       "version_major": 2,
       "version_minor": 0
      },
      "text/plain": [
       "HBox(children=(Label(value='Region:', layout=Layout(display='flex', justify_content='flex-end', width='16%')),…"
      ]
     },
     "metadata": {},
     "output_type": "display_data"
    },
    {
     "data": {
      "application/vnd.jupyter.widget-view+json": {
       "model_id": "",
       "version_major": 2,
       "version_minor": 0
      },
      "text/plain": [
       "HBox(children=(Label(value='Load ARN:', layout=Layout(display='flex', justify_content='flex-end', width='16%')…"
      ]
     },
     "metadata": {},
     "output_type": "display_data"
    },
    {
     "data": {
      "application/vnd.jupyter.widget-view+json": {
       "model_id": "",
       "version_major": 2,
       "version_minor": 0
      },
      "text/plain": [
       "HBox(children=(Label(value='Mode:', layout=Layout(display='flex', justify_content='flex-end', width='16%')), D…"
      ]
     },
     "metadata": {},
     "output_type": "display_data"
    },
    {
     "data": {
      "application/vnd.jupyter.widget-view+json": {
       "model_id": "",
       "version_major": 2,
       "version_minor": 0
      },
      "text/plain": [
       "HBox(children=(Label(value='Fail on Error:', layout=Layout(display='flex', justify_content='flex-end', width='…"
      ]
     },
     "metadata": {},
     "output_type": "display_data"
    },
    {
     "data": {
      "application/vnd.jupyter.widget-view+json": {
       "model_id": "",
       "version_major": 2,
       "version_minor": 0
      },
      "text/plain": [
       "HBox(children=(Label(value='Parallelism:', layout=Layout(display='flex', justify_content='flex-end', width='16…"
      ]
     },
     "metadata": {},
     "output_type": "display_data"
    },
    {
     "data": {
      "application/vnd.jupyter.widget-view+json": {
       "model_id": "",
       "version_major": 2,
       "version_minor": 0
      },
      "text/plain": [
       "HBox(children=(Label(value='Update Single Cardinality:', layout=Layout(display='flex', justify_content='flex-e…"
      ]
     },
     "metadata": {},
     "output_type": "display_data"
    },
    {
     "data": {
      "application/vnd.jupyter.widget-view+json": {
       "model_id": "",
       "version_major": 2,
       "version_minor": 0
      },
      "text/plain": [
       "HBox(children=(Label(value='Queue Request:', layout=Layout(display='flex', justify_content='flex-end', width='…"
      ]
     },
     "metadata": {},
     "output_type": "display_data"
    },
    {
     "data": {
      "application/vnd.jupyter.widget-view+json": {
       "model_id": "",
       "version_major": 2,
       "version_minor": 0
      },
      "text/plain": [
       "HBox(children=(Label(value='Dependencies:', layout=Layout(display='flex', justify_content='flex-end', width='1…"
      ]
     },
     "metadata": {},
     "output_type": "display_data"
    },
    {
     "data": {
      "application/vnd.jupyter.widget-view+json": {
       "model_id": "",
       "version_major": 2,
       "version_minor": 0
      },
      "text/plain": [
       "HBox(children=(Label(value='Poll Load Status:', layout=Layout(display='flex', justify_content='flex-end', widt…"
      ]
     },
     "metadata": {},
     "output_type": "display_data"
    },
    {
     "data": {
      "application/vnd.jupyter.widget-view+json": {
       "model_id": "",
       "version_major": 2,
       "version_minor": 0
      },
      "text/plain": [
       "HBox(children=(Label(value='User Provided Edge Ids:', layout=Layout(display='none', justify_content='flex-end'…"
      ]
     },
     "metadata": {},
     "output_type": "display_data"
    },
    {
     "data": {
      "application/vnd.jupyter.widget-view+json": {
       "model_id": "",
       "version_major": 2,
       "version_minor": 0
      },
      "text/plain": [
       "HBox(children=(Label(value='Allow Empty Strings:', layout=Layout(display='flex', justify_content='flex-end', w…"
      ]
     },
     "metadata": {},
     "output_type": "display_data"
    },
    {
     "data": {
      "application/vnd.jupyter.widget-view+json": {
       "model_id": "",
       "version_major": 2,
       "version_minor": 0
      },
      "text/plain": [
       "HBox(children=(Label(value='Named Graph URI:', layout=Layout(display='none', justify_content='flex-end', width…"
      ]
     },
     "metadata": {},
     "output_type": "display_data"
    },
    {
     "data": {
      "application/vnd.jupyter.widget-view+json": {
       "model_id": "",
       "version_major": 2,
       "version_minor": 0
      },
      "text/plain": [
       "HBox(children=(Label(value='Base URI:', layout=Layout(display='none', justify_content='flex-end', width='16%')…"
      ]
     },
     "metadata": {},
     "output_type": "display_data"
    },
    {
     "data": {
      "application/vnd.jupyter.widget-view+json": {
       "model_id": "",
       "version_major": 2,
       "version_minor": 0
      },
      "text/plain": [
       "Button(description='Submit', style=ButtonStyle())"
      ]
     },
     "metadata": {},
     "output_type": "display_data"
    },
    {
     "data": {
      "application/vnd.jupyter.widget-view+json": {
       "model_id": "",
       "version_major": 2,
       "version_minor": 0
      },
      "text/plain": [
       "Output()"
      ]
     },
     "metadata": {},
     "output_type": "display_data"
    },
    {
     "data": {
      "application/vnd.jupyter.widget-view+json": {
       "model_id": "ab12f46007cd4e21ba37f4bb0eb90d0c",
       "version_major": 2,
       "version_minor": 0
      },
      "text/plain": [
       "VBox(children=(HBox(children=(Label(value='Load ID: 95e4f86c-7e2b-4bf1-8175-6c91036968d8'),)), HBox(children=(…"
      ]
     },
     "metadata": {},
     "output_type": "display_data"
    }
   ],
   "source": [
    "%load -s {s3_location} -f csv -p OVERSUBSCRIBE --run"
   ]
  },
  {
   "cell_type": "markdown",
   "id": "b7b4f0a9",
   "metadata": {},
   "source": [
    "## Query the Neptune DB"
   ]
  },
  {
   "cell_type": "markdown",
   "id": "b2ad57a6",
   "metadata": {},
   "source": [
    "Once the Neptune upload has completed, we can use the `%%gremlin` cell magic to write queries to the database using the Gremlin language."
   ]
  },
  {
   "cell_type": "markdown",
   "id": "1744741b",
   "metadata": {},
   "source": [
    "### Nodes: count by label"
   ]
  },
  {
   "cell_type": "code",
   "execution_count": 66,
   "id": "a1a2c79a",
   "metadata": {},
   "outputs": [
    {
     "data": {
      "application/vnd.jupyter.widget-view+json": {
       "model_id": "a380a2e60fff42f19ba77603928236dc",
       "version_major": 2,
       "version_minor": 0
      },
      "text/plain": [
       "Tab(children=(Output(layout=Layout(max_height='600px', overflow='scroll', width='100%')), Output(layout=Layout…"
      ]
     },
     "metadata": {},
     "output_type": "display_data"
    }
   ],
   "source": [
    "%%gremlin\n",
    "g.V().groupCount().by(label).unfold()"
   ]
  },
  {
   "cell_type": "markdown",
   "id": "56448bbb",
   "metadata": {},
   "source": [
    "### Edges: count by label"
   ]
  },
  {
   "cell_type": "code",
   "execution_count": 33,
   "id": "5f9c8bb1",
   "metadata": {},
   "outputs": [
    {
     "data": {
      "application/vnd.jupyter.widget-view+json": {
       "model_id": "2f2b1dcccad349888a4f38633a658b3e",
       "version_major": 2,
       "version_minor": 0
      },
      "text/plain": [
       "Tab(children=(Output(layout=Layout(max_height='600px', overflow='scroll', width='100%')), Output(layout=Layout…"
      ]
     },
     "metadata": {},
     "output_type": "display_data"
    }
   ],
   "source": [
    "%%gremlin\n",
    "g.E().groupCount().by(label).unfold()"
   ]
  },
  {
   "cell_type": "markdown",
   "id": "c779e8ad",
   "metadata": {},
   "source": [
    "### Visualize"
   ]
  },
  {
   "cell_type": "code",
   "execution_count": 76,
   "id": "d46eaf56",
   "metadata": {},
   "outputs": [
    {
     "data": {
      "application/vnd.jupyter.widget-view+json": {
       "model_id": "29726e8c82724b6792061f19f56717f7",
       "version_major": 2,
       "version_minor": 0
      },
      "text/plain": [
       "Tab(children=(Output(layout=Layout(max_height='600px', overflow='scroll', width='100%')), Force(network=<graph…"
      ]
     },
     "metadata": {},
     "output_type": "display_data"
    }
   ],
   "source": [
    "%%gremlin -p v,ine,outv,oute,inv,oute,inv\n",
    "g.V().hasLabel('SYSTEM_ORGAN_SITE').limit(1).\n",
    "inE().outV().outE().inV().outE().inV().path().by(valueMap(true))"
   ]
  },
  {
   "cell_type": "markdown",
   "id": "f1e0bf80",
   "metadata": {},
   "source": [
    "## Export the relevant data and model configuration"
   ]
  },
  {
   "cell_type": "markdown",
   "id": "85671e3b",
   "metadata": {},
   "source": [
    "In this section, we leverage the Neptune ML utilities to export data from the Neptune DB instance back to S3 for machine learning.  The `export_params` dictionary specifies the relevant parameters for the export job depending on the problem we wish to solve.  In this case, we focus on the `DX_NAME` and `SYSTEM_ORGAN_SITE` nodes and the `SYSTEM_ORGAN_SITE` edges that connect them, with the goal of modeling those connections with machine learning."
   ]
  },
  {
   "cell_type": "code",
   "execution_count": 13,
   "id": "89cf5e6d",
   "metadata": {},
   "outputs": [
    {
     "data": {
      "text/plain": [
       "'neptunedbcluster-hjhnyudeb2ac.cluster-cwevnqts1jz0.us-east-2.neptune.amazonaws.com'"
      ]
     },
     "execution_count": 13,
     "metadata": {},
     "output_type": "execute_result"
    }
   ],
   "source": [
    "# DB Cluster\n",
    "neptune_ml.get_host()"
   ]
  },
  {
   "cell_type": "code",
   "execution_count": 14,
   "id": "c61b48d0",
   "metadata": {},
   "outputs": [
    {
     "data": {
      "text/plain": [
       "'pdsqjuffzk.execute-api.us-east-2.amazonaws.com/v1'"
      ]
     },
     "execution_count": 14,
     "metadata": {},
     "output_type": "execute_result"
    }
   ],
   "source": [
    "# Export service\n",
    "neptune_ml.get_export_service_host()"
   ]
  },
  {
   "cell_type": "code",
   "execution_count": null,
   "id": "b9eca395",
   "metadata": {},
   "outputs": [],
   "source": [
    "# Define export params\n",
    "export_params = {\n",
    "    \"params\": {\n",
    "        \"endpoint\": neptune_ml.get_host(),\n",
    "        \"profile\" : \"neptune_ml\",\n",
    "        \"cloneCluster\": False,\n",
    "        \"filter\" : {\n",
    "          \"nodes\" : [\n",
    "            {\n",
    "              \"label\" : \"DX_NAME\",\n",
    "              \"properties\" : [\"Name\"]\n",
    "            },\n",
    "            {\n",
    "              \"label\" : \"SYSTEM_ORGAN_SITE\",\n",
    "              \"properties\" : [\"Name\"]\n",
    "            }\n",
    "          ],\n",
    "          \"edges\" : [\n",
    "            {\n",
    "              \"label\" : \"SYSTEM_ORGAN_SITE\",\n",
    "              \"properties\" : [\"RelationshipScore\"]\n",
    "            }\n",
    "          ]\n",
    "        },\n",
    "        \"nodeLabels\" : [\"DX_NAME\", \"SYSTEM_ORGAN_SITE\"],\n",
    "        \"edgeLabels\" : [\"SYSTEM_ORGAN_SITE\"],\n",
    "    }, \n",
    "    \"outputS3Path\": f'{s3_bucket_uri}/neptune-export',\n",
    "    \"additionalParams\": {\n",
    "        \"neptune_ml\": {\n",
    "            \"version\": \"v2.0\",\n",
    "            \"targets\": [\n",
    "                {\n",
    "                    \"edge\": [\"SYSTEM_ORGAN_SITE\", \"SYSTEM_ORGAN_SITE\", \"DX_NAME\"],\n",
    "                    \"type\" : \"link_prediction\",\n",
    "                    \"split_rate\": [0.9, 0.1, 0.0]\n",
    "                }\n",
    "            ],\n",
    "            \"features\": [\n",
    "                {\n",
    "                    \"node\": \"SYSTEM_ORGAN_SITE\",\n",
    "                    \"property\": \"Name\",\n",
    "                    \"type\": \"auto\"\n",
    "#                     \"type\": \"text_word2vec\",\n",
    "#                     \"language\": \"en_core_web_lg\"\n",
    "                },\n",
    "                {\n",
    "                    \"node\": \"DX_NAME\",\n",
    "                    \"property\": \"Name\",\n",
    "                    \"type\": \"auto\"\n",
    "#                     \"type\": \"text_word2vec\",\n",
    "#                     \"language\": \"en_core_web_lg\"\n",
    "                },\n",
    "                {\n",
    "                    \"edge\": [\"SYSTEM_ORGAN_SITE\", \"SYSTEM_ORGAN_SITE\", \"DX_NAME\"],\n",
    "                    \"property\": \"RelationshipScore\",\n",
    "                    \"type\": \"auto\"\n",
    "#                     \"type\": \"numerical\",\n",
    "#                     \"norm\": \"none\"\n",
    "                },\n",
    "            ]\n",
    "        }\n",
    "    },\n",
    "    \"jobSize\": \"medium\"\n",
    "}"
   ]
  },
  {
   "cell_type": "markdown",
   "id": "5d7b7bc3",
   "metadata": {},
   "source": [
    "Use cell magic to start the export."
   ]
  },
  {
   "cell_type": "code",
   "execution_count": null,
   "id": "4ae78e2a",
   "metadata": {},
   "outputs": [],
   "source": [
    "%%neptune_ml export start --export-url {neptune_ml.get_export_service_host()} --export-iam --wait --store-to export_results \n",
    "${export_params}"
   ]
  },
  {
   "cell_type": "code",
   "execution_count": null,
   "id": "45031e6a",
   "metadata": {},
   "outputs": [],
   "source": [
    "# Check output S3 location\n",
    "export_results['outputS3Uri']"
   ]
  },
  {
   "cell_type": "markdown",
   "id": "fcd86817",
   "metadata": {},
   "source": [
    "## Data processing"
   ]
  },
  {
   "cell_type": "markdown",
   "id": "2d979e56",
   "metadata": {},
   "source": [
    "In this section, we use the Neptune ML utilities to run a data processing job in the exported data given the specified `processing_params`."
   ]
  },
  {
   "cell_type": "code",
   "execution_count": null,
   "id": "8a8dd39a",
   "metadata": {},
   "outputs": [],
   "source": [
    "# The training_job_name can be set to a unique value below, otherwise one will be auto generated\n",
    "training_job_name=neptune_ml.get_training_job_name('link-prediction')\n",
    "\n",
    "processing_params = f\"\"\"\n",
    "--config-file-name training-data-configuration.json\n",
    "--job-id {training_job_name}\n",
    "--s3-input-uri {export_results['outputS3Uri']}\n",
    "--s3-processed-uri {str(s3_bucket_uri)}/preloading\"\"\""
   ]
  },
  {
   "cell_type": "markdown",
   "id": "8126d0c2",
   "metadata": {},
   "source": [
    "Use the line magic to start the data processing."
   ]
  },
  {
   "cell_type": "code",
   "execution_count": null,
   "id": "7431fb2a",
   "metadata": {},
   "outputs": [],
   "source": [
    "%neptune_ml dataprocessing start --wait --store-to processing_results {processing_params}"
   ]
  },
  {
   "cell_type": "markdown",
   "id": "1e44d3ca",
   "metadata": {},
   "source": [
    "## Model training"
   ]
  },
  {
   "cell_type": "markdown",
   "id": "9c50472f",
   "metadata": {},
   "source": [
    "Now that we've exported and processed the relevant data, we are ready to train our link prediction model.  Here we can specify the `instance_type` we would like to use to train our model, as well as the destination for the trained model object in S3."
   ]
  },
  {
   "cell_type": "code",
   "execution_count": null,
   "id": "b0654817",
   "metadata": {},
   "outputs": [],
   "source": [
    "training_params=f\"\"\"\n",
    "--job-id {training_job_name}\n",
    "--data-processing-id {training_job_name}\n",
    "--instance-type ml.p3.2xlarge\n",
    "--s3-output-uri {str(s3_bucket_uri)}/training\"\"\""
   ]
  },
  {
   "cell_type": "markdown",
   "id": "35c7ee11",
   "metadata": {},
   "source": [
    "Use line magic to train the model."
   ]
  },
  {
   "cell_type": "code",
   "execution_count": null,
   "id": "470c03c5",
   "metadata": {},
   "outputs": [],
   "source": [
    "%neptune_ml training start --wait --store-to training_results {training_params}"
   ]
  },
  {
   "cell_type": "markdown",
   "id": "f07aa503",
   "metadata": {},
   "source": [
    "## Endpoint creation"
   ]
  },
  {
   "cell_type": "markdown",
   "id": "25e83403",
   "metadata": {},
   "source": [
    "Finally, we can use Neptune ML to launch an endpoint that serves our trained model.  Importantly, this endpoint can be accessed from within Gremlin to seamlessly leverage model inference as part of a graph query."
   ]
  },
  {
   "cell_type": "code",
   "execution_count": null,
   "id": "736efd42",
   "metadata": {},
   "outputs": [],
   "source": [
    "endpoint_params=f\"\"\"\n",
    "--id {training_job_name}\n",
    "--model-training-job-id {training_job_name}\"\"\""
   ]
  },
  {
   "cell_type": "markdown",
   "id": "610c05c5",
   "metadata": {},
   "source": [
    "Use line magic to create the endpoint."
   ]
  },
  {
   "cell_type": "code",
   "execution_count": null,
   "id": "af1a2a57",
   "metadata": {},
   "outputs": [],
   "source": [
    "%neptune_ml endpoint create --wait --store-to endpoint_results {endpoint_params}"
   ]
  },
  {
   "cell_type": "code",
   "execution_count": null,
   "id": "0795347e",
   "metadata": {},
   "outputs": [],
   "source": [
    "# Get the endpoint name\n",
    "endpoint = endpoint_results['endpoint']['name']\n",
    "endpoint"
   ]
  },
  {
   "cell_type": "markdown",
   "id": "c15b3e58",
   "metadata": {},
   "source": [
    "## Using the Endpoint to query the graph"
   ]
  },
  {
   "cell_type": "markdown",
   "id": "ac506b19",
   "metadata": {},
   "source": [
    "In this final section, we leverage our trained model endpoint to make link predictions using Gremlin.  In the first example, we begin with a specific `DX_NAME` node and use our ML model to predict the most probable connections to `SYSTEM_ORGAN_SITE` nodes.  In the second example we do the reverse, starting with a specific `SYSTEM_ORGAN_SITE` node and predicting the most probable connections to `DX_NAME` nodes.  In both examples, we compare the true connections that exist in the graph to the connections predicted by the model."
   ]
  },
  {
   "cell_type": "markdown",
   "id": "5f2b2ff7",
   "metadata": {},
   "source": [
    "### Predict potential organ systems for a diagnosis"
   ]
  },
  {
   "cell_type": "code",
   "execution_count": null,
   "id": "60b9cc34",
   "metadata": {},
   "outputs": [],
   "source": [
    "%%gremlin\n",
    "g.V().hasLabel('DX_NAME').limit(10).valueMap()"
   ]
  },
  {
   "cell_type": "code",
   "execution_count": null,
   "id": "b514a435",
   "metadata": {},
   "outputs": [],
   "source": [
    "# Set diagnosis name to analyze with ML\n",
    "diagnosis_name = 'infection'"
   ]
  },
  {
   "cell_type": "code",
   "execution_count": null,
   "id": "29ff2195",
   "metadata": {},
   "outputs": [],
   "source": [
    "%%gremlin\n",
    "g.V().hasLabel('DX_NAME').\n",
    "    has('Name', '${diagnosis_name}').\n",
    "    out('SYSTEM_ORGAN_SITE').\n",
    "    hasLabel('SYSTEM_ORGAN_SITE').valueMap()"
   ]
  },
  {
   "cell_type": "code",
   "execution_count": null,
   "id": "f1086e4a",
   "metadata": {},
   "outputs": [],
   "source": [
    "%%gremlin\n",
    "g.with(\"Neptune#ml.endpoint\",\"${endpoint}\").\n",
    "    with(\"Neptune#ml.limit\", 10).\n",
    "    V().hasLabel('DX_NAME').\n",
    "    has('Name', '${diagnosis_name}').\n",
    "    out('SYSTEM_ORGAN_SITE').\n",
    "    with(\"Neptune#ml.prediction\").\n",
    "    hasLabel('SYSTEM_ORGAN_SITE').\n",
    "    valueMap()"
   ]
  },
  {
   "cell_type": "markdown",
   "id": "e0b86a29",
   "metadata": {},
   "source": [
    "### Predict potential diagnoses for an organ system"
   ]
  },
  {
   "cell_type": "code",
   "execution_count": null,
   "id": "4515e121",
   "metadata": {},
   "outputs": [],
   "source": [
    "%%gremlin\n",
    "g.V().hasLabel('SYSTEM_ORGAN_SITE').limit(10).valueMap()"
   ]
  },
  {
   "cell_type": "code",
   "execution_count": null,
   "id": "95199dc1",
   "metadata": {},
   "outputs": [],
   "source": [
    "# Set organ system to analyze with ML\n",
    "organ_system_name = 'brain'"
   ]
  },
  {
   "cell_type": "code",
   "execution_count": null,
   "id": "e6700037",
   "metadata": {},
   "outputs": [],
   "source": [
    "%%gremlin\n",
    "g.V().hasLabel('SYSTEM_ORGAN_SITE').\n",
    "    has('Name', '${organ_system_name}').\n",
    "    in('SYSTEM_ORGAN_SITE').\n",
    "    hasLabel('DX_NAME').valueMap()"
   ]
  },
  {
   "cell_type": "code",
   "execution_count": null,
   "id": "7bfac562",
   "metadata": {},
   "outputs": [],
   "source": [
    "%%gremlin\n",
    "g.with(\"Neptune#ml.endpoint\",\"${endpoint}\").\n",
    "    with(\"Neptune#ml.limit\", 10).\n",
    "    V().hasLabel('SYSTEM_ORGAN_SITE').\n",
    "    has('Name', '${organ_system_name}').\n",
    "    in('SYSTEM_ORGAN_SITE').\n",
    "    with(\"Neptune#ml.prediction\").\n",
    "    hasLabel('DX_NAME').\n",
    "    valueMap()"
   ]
  },
  {
   "cell_type": "markdown",
   "id": "69d86823",
   "metadata": {},
   "source": [
    "## Delete endpoint (optional)"
   ]
  },
  {
   "cell_type": "markdown",
   "id": "74f78af1",
   "metadata": {},
   "source": [
    "We can use the Neptune ML utilities to delete the SageMaker endpoint when we're done if we'd like."
   ]
  },
  {
   "cell_type": "code",
   "execution_count": null,
   "id": "c90b6ecc",
   "metadata": {},
   "outputs": [],
   "source": [
    "neptune_ml.delete_endpoint(training_job_name)"
   ]
  },
  {
   "cell_type": "code",
   "execution_count": null,
   "id": "a4df3ff6",
   "metadata": {},
   "outputs": [],
   "source": []
  },
  {
   "cell_type": "code",
   "execution_count": null,
   "id": "215bf54f",
   "metadata": {},
   "outputs": [],
   "source": []
  }
 ],
 "metadata": {
  "kernelspec": {
   "display_name": "conda_amazonei_mxnet_p27",
   "language": "python",
   "name": "conda_amazonei_mxnet_p27"
  },
  "language_info": {
   "codemirror_mode": {
    "name": "ipython",
    "version": 2
   },
   "file_extension": ".py",
   "mimetype": "text/x-python",
   "name": "python",
   "nbconvert_exporter": "python",
   "pygments_lexer": "ipython2",
   "version": "2.7.16"
  }
 },
 "nbformat": 4,
 "nbformat_minor": 5
}
