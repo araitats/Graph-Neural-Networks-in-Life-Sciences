{
 "cells": [
  {
   "cell_type": "markdown",
   "metadata": {},
   "source": [
    "## DRKG Jaccard score analysis\n",
    "This notebook performs an similarity analysis of different link types in the DRKG based on the overlap of the nodes and edges among these edge type.  Speciffically, we report the Jaccard score for edges and nodes and also an edge overlap score among edge types. For definitions of the scores see this notebook and the paper. These scores helps us assess the quality of the constructed DRKG"
   ]
  },
  {
   "cell_type": "code",
   "execution_count": 4,
   "metadata": {},
   "outputs": [
    {
     "name": "stdout",
     "output_type": "stream",
     "text": [
      "Requirement already satisfied: torch in /home/ec2-user/anaconda3/envs/pytorch_latest_p36/lib/python3.6/site-packages (1.7.1)\n",
      "Requirement already satisfied: typing_extensions in /home/ec2-user/anaconda3/envs/pytorch_latest_p36/lib/python3.6/site-packages (from torch) (4.0.1)\n",
      "Requirement already satisfied: numpy in /home/ec2-user/anaconda3/envs/pytorch_latest_p36/lib/python3.6/site-packages (from torch) (1.19.2)\n",
      "Requirement already satisfied: dataclasses in /home/ec2-user/anaconda3/envs/pytorch_latest_p36/lib/python3.6/site-packages (from torch) (0.8)\n",
      "Requirement already satisfied: dgl==0.4.3post2 in /home/ec2-user/anaconda3/envs/pytorch_latest_p36/lib/python3.6/site-packages (0.4.3.post2)\n",
      "Requirement already satisfied: numpy>=1.14.0 in /home/ec2-user/anaconda3/envs/pytorch_latest_p36/lib/python3.6/site-packages (from dgl==0.4.3post2) (1.19.2)\n",
      "Requirement already satisfied: networkx>=2.1 in /home/ec2-user/anaconda3/envs/pytorch_latest_p36/lib/python3.6/site-packages (from dgl==0.4.3post2) (2.5)\n",
      "Requirement already satisfied: scipy>=1.1.0 in /home/ec2-user/anaconda3/envs/pytorch_latest_p36/lib/python3.6/site-packages (from dgl==0.4.3post2) (1.5.3)\n",
      "Requirement already satisfied: requests>=2.19.0 in /home/ec2-user/anaconda3/envs/pytorch_latest_p36/lib/python3.6/site-packages (from dgl==0.4.3post2) (2.26.0)\n",
      "Requirement already satisfied: decorator>=4.3.0 in /home/ec2-user/anaconda3/envs/pytorch_latest_p36/lib/python3.6/site-packages (from networkx>=2.1->dgl==0.4.3post2) (4.4.2)\n",
      "Requirement already satisfied: idna<4,>=2.5 in /home/ec2-user/anaconda3/envs/pytorch_latest_p36/lib/python3.6/site-packages (from requests>=2.19.0->dgl==0.4.3post2) (3.1)\n",
      "Requirement already satisfied: charset-normalizer~=2.0.0 in /home/ec2-user/anaconda3/envs/pytorch_latest_p36/lib/python3.6/site-packages (from requests>=2.19.0->dgl==0.4.3post2) (2.0.9)\n",
      "Requirement already satisfied: certifi>=2017.4.17 in /home/ec2-user/anaconda3/envs/pytorch_latest_p36/lib/python3.6/site-packages (from requests>=2.19.0->dgl==0.4.3post2) (2021.5.30)\n",
      "Requirement already satisfied: urllib3<1.27,>=1.21.1 in /home/ec2-user/anaconda3/envs/pytorch_latest_p36/lib/python3.6/site-packages (from requests>=2.19.0->dgl==0.4.3post2) (1.26.8)\n",
      "Requirement already satisfied: dglke in /home/ec2-user/anaconda3/envs/pytorch_latest_p36/lib/python3.6/site-packages (0.1.2)\n",
      "Requirement already satisfied: setuptools in /home/ec2-user/anaconda3/envs/pytorch_latest_p36/lib/python3.6/site-packages (from dglke) (49.6.0.post20210108)\n",
      "Requirement already satisfied: numpy in /home/ec2-user/anaconda3/envs/pytorch_latest_p36/lib/python3.6/site-packages (from dglke) (1.19.2)\n"
     ]
    }
   ],
   "source": [
    "# First install libraries\n",
    "!pip3 install torch\n",
    "!pip3 install dgl==0.4.3post2 \n",
    "!pip3 install dglke"
   ]
  },
  {
   "cell_type": "code",
   "execution_count": 5,
   "metadata": {},
   "outputs": [
    {
     "name": "stdout",
     "output_type": "stream",
     "text": [
      "Download finished. Unzipping the file...\n"
     ]
    }
   ],
   "source": [
    "import pandas as pd\n",
    "import numpy as np\n",
    "import sys\n",
    "sys.path.insert(1, '../utils')\n",
    "from utils import download_and_extract\n",
    "download_and_extract()"
   ]
  },
  {
   "cell_type": "code",
   "execution_count": 7,
   "metadata": {},
   "outputs": [],
   "source": [
    "#load the triplets\n",
    "drkg_file = '../data/drkg.tsv'\n",
    "df = pd.read_csv(drkg_file, sep=\"\\t\")\n",
    "triplets = df.values.tolist()"
   ]
  },
  {
   "cell_type": "code",
   "execution_count": 8,
   "metadata": {},
   "outputs": [
    {
     "name": "stderr",
     "output_type": "stream",
     "text": [
      "Using backend: pytorch\n"
     ]
    }
   ],
   "source": [
    "import dgl"
   ]
  },
  {
   "cell_type": "markdown",
   "metadata": {},
   "source": [
    "Find unique entities"
   ]
  },
  {
   "cell_type": "code",
   "execution_count": null,
   "metadata": {},
   "outputs": [],
   "source": [
    "entity_dictionary={}\n",
    "def insert_entry(entry,ent_type,dic):\n",
    "    if ent_type not in dic:\n",
    "        dic[ent_type]={}\n",
    "    ent_n_id=len(dic[ent_type])\n",
    "    if entry not in dic[ent_type]:\n",
    "         dic[ent_type][entry]=ent_n_id\n",
    "    return dic\n",
    "\n",
    "for triple in triplets:\n",
    "    src = triple[0]\n",
    "    split_src=src.split('::')\n",
    "    src_type=split_src[0]\n",
    "    dest = triple[2]\n",
    "    split_dest=dest.split('::')\n",
    "    dest_type=split_dest[0]\n",
    "    insert_entry(src,src_type,entity_dictionary)\n",
    "    insert_entry(dest,dest_type,entity_dictionary)"
   ]
  },
  {
   "cell_type": "markdown",
   "metadata": {},
   "source": [
    "Next we find for each edge_type the distinct nodes and edges."
   ]
  },
  {
   "cell_type": "code",
   "execution_count": null,
   "metadata": {},
   "outputs": [],
   "source": [
    "edge_dictionary={}\n",
    "node_dictionary={}\n",
    "for triple in triplets:\n",
    "    src = triple[0]\n",
    "    split_src=src.split('::')\n",
    "    src_type=split_src[0]\n",
    "    dest = triple[2]\n",
    "    split_dest=dest.split('::')\n",
    "    dest_type=split_dest[0]\n",
    "    \n",
    "    src_int_id=entity_dictionary[src_type][src]\n",
    "    dest_int_id=entity_dictionary[dest_type][dest]\n",
    "    \n",
    "    pair=[(src_int_id,dest_int_id)]\n",
    "    etype=triple[1]\n",
    "    if etype in edge_dictionary:\n",
    "        edge_dictionary[etype]+=pair\n",
    "    else:\n",
    "        edge_dictionary[etype]=pair\n",
    "    if etype in node_dictionary:\n",
    "        node_dictionary[etype].add(src_int_id)\n",
    "        node_dictionary[etype].add(dest_int_id)\n",
    "    else:\n",
    "        node_dictionary[etype]=set()   \n",
    "        node_dictionary[etype].add(src_int_id)\n",
    "        node_dictionary[etype].add(dest_int_id)"
   ]
  },
  {
   "cell_type": "markdown",
   "metadata": {},
   "source": [
    "## Score Calculation"
   ]
  },
  {
   "cell_type": "markdown",
   "metadata": {},
   "source": [
    "Next we calculate the Jaccard index for nodes and edges and each edge type https://en.wikipedia.org/wiki/Jaccard_index. We also calculate what the overlap coefficient https://en.wikipedia.org/wiki/Overlap_coefficient "
   ]
  },
  {
   "cell_type": "code",
   "execution_count": null,
   "metadata": {},
   "outputs": [],
   "source": [
    "jacard_pair_info=['edge_type_1\\tedge_type_2\\tJancard-edge\\tJancard-node\\tPct of edges included in smaller set\\n']\n",
    "keys=list(edge_dictionary.keys())\n",
    "for i in range(len(keys)):\n",
    "    for k in range(i+1,len(keys)):\n",
    "        e1=keys[i]\n",
    "        e2=keys[k]\n",
    "        e1_ed=set(edge_dictionary[e1])\n",
    "        e2_ed=set(edge_dictionary[e2])\n",
    "        common_edges=e1_ed.intersection(e2_ed)\n",
    "        union_edges=e1_ed.union(e2_ed)\n",
    "        jacard_edge=float(len(common_edges)/(len(union_edges)))\n",
    "\n",
    "\n",
    "        n1_d=node_dictionary[e1]\n",
    "        n2_d=node_dictionary[e2]\n",
    "        common_nodes=n1_d.intersection(n2_d)\n",
    "        union_nodes=n1_d.union(n2_d)           \n",
    "        jacard_node=float(len(common_nodes)/(len(union_nodes)))\n",
    "\n",
    "        if len(e1_ed)>len(e2_ed):\n",
    "            max_ed=e1_ed\n",
    "            min_ed=e2_ed\n",
    "        else:\n",
    "            max_ed=e2_ed\n",
    "            min_ed=e1_ed\n",
    "        edge_inclusion=float((len(min_ed)-len(min_ed.difference(max_ed)))/len(min_ed))\n",
    "\n",
    "        jacard_pair_info.append(\"{}\\t{}\\t{}\\t{}\\t{}\\n\".format(e1, e2, jacard_edge,jacard_node,edge_inclusion))"
   ]
  },
  {
   "cell_type": "code",
   "execution_count": null,
   "metadata": {},
   "outputs": [],
   "source": [
    "jacard_triplets=[jacard_pair_in.split('\\t') for jacard_pair_in in jacard_pair_info]\n",
    "jacard_triplets=[jacard_triplet[:-1]+[jacard_triplet[-1].split('\\n')[0]] for jacard_triplet in jacard_triplets]"
   ]
  },
  {
   "cell_type": "code",
   "execution_count": null,
   "metadata": {},
   "outputs": [],
   "source": [
    "jacard_triplets_sort=(sorted(jacard_triplets[1:],key=lambda x: float(x[4])))[::-1]\n",
    "jacard_triplets_store=[\"{}\\t{}\\t{}\\t{}\\t{}\\n\".format(j[0], j[1], j[2],j[3],j[4]) for j in jacard_triplets_sort]\n",
    "entity_file = \"edge_pair_jaccard_scores_sorted_overlap.tsv\"\n",
    "with open(entity_file, 'w+') as f:\n",
    "    f.writelines(jacard_triplets_store)"
   ]
  },
  {
   "cell_type": "code",
   "execution_count": null,
   "metadata": {},
   "outputs": [],
   "source": [
    "jacard_triplets_sort=(sorted(jacard_triplets[1:],key=lambda x: float(x[2])))[::-1]\n",
    "jacard_triplets_store=[\"{}\\t{}\\t{}\\t{}\\t{}\\n\".format(j[0], j[1], j[2],j[3],j[4]) for j in jacard_triplets_sort]\n",
    "entity_file = \"edge_pair_jaccard_scores_sorted_jacard.tsv\"\n",
    "with open(entity_file, 'w+') as f:\n",
    "    f.writelines(jacard_triplets_store)"
   ]
  },
  {
   "cell_type": "code",
   "execution_count": null,
   "metadata": {},
   "outputs": [],
   "source": [
    "print(jacard_triplets_store)"
   ]
  }
 ],
 "metadata": {
  "kernelspec": {
   "display_name": "conda_pytorch_latest_p36",
   "language": "python",
   "name": "conda_pytorch_latest_p36"
  },
  "language_info": {
   "codemirror_mode": {
    "name": "ipython",
    "version": 3
   },
   "file_extension": ".py",
   "mimetype": "text/x-python",
   "name": "python",
   "nbconvert_exporter": "python",
   "pygments_lexer": "ipython3",
   "version": "3.6.13"
  }
 },
 "nbformat": 4,
 "nbformat_minor": 4
}
