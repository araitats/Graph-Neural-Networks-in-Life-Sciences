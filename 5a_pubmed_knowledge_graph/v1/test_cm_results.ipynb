{
 "cells": [
  {
   "cell_type": "markdown",
   "id": "b0e06eb9",
   "metadata": {},
   "source": [
    "## CM -> Gremlin\n",
    "\n",
    "[07/27] Logic to transform CM outputs to Gremlin after Tat's processesing."
   ]
  },
  {
   "cell_type": "code",
   "execution_count": 1,
   "id": "cf25bac5",
   "metadata": {},
   "outputs": [],
   "source": [
    "# ! pip install -r requirements.txt"
   ]
  },
  {
   "cell_type": "code",
   "execution_count": 2,
   "id": "2658f36a",
   "metadata": {},
   "outputs": [],
   "source": [
    "%load_ext autoreload\n",
    "%autoreload 2"
   ]
  },
  {
   "cell_type": "code",
   "execution_count": 3,
   "id": "9dc3b695",
   "metadata": {},
   "outputs": [],
   "source": [
    "from pathlib2 import Path\n",
    "import src\n",
    "from src.knowledge_graph_transformer import knowledgeGraphTransformer\n",
    "from src.utils import list_csvs\n",
    "import config"
   ]
  },
  {
   "cell_type": "code",
   "execution_count": 4,
   "id": "fc933bbc",
   "metadata": {},
   "outputs": [
    {
     "data": {
      "text/plain": [
       "['INPUT_DIR',\n",
       " 'NOW',\n",
       " 'OUTPUT_DIR',\n",
       " 'Path',\n",
       " 'S3_OUTPUT',\n",
       " '__builtins__',\n",
       " '__cached__',\n",
       " '__doc__',\n",
       " '__file__',\n",
       " '__loader__',\n",
       " '__name__',\n",
       " '__package__',\n",
       " '__spec__',\n",
       " 'datetime',\n",
       " 'kwargs']"
      ]
     },
     "execution_count": 4,
     "metadata": {},
     "output_type": "execute_result"
    }
   ],
   "source": [
    "dir(config)"
   ]
  },
  {
   "cell_type": "code",
   "execution_count": 5,
   "id": "cdcb1dd5",
   "metadata": {},
   "outputs": [],
   "source": [
    "class ClassTester:\n",
    "    def __init__(self, config):\n",
    "        self.INPUT_DIR = config.INPUT_DIR\n",
    "        self.LOCAL_OUTPUT = config.OUTPUT_DIR\n",
    "        self.S3_OUTPUT = config.S3_OUTPUT\n",
    "        self.NOW = config.NOW\n",
    "        self.kwargs = config.kwargs"
   ]
  },
  {
   "cell_type": "code",
   "execution_count": 6,
   "id": "8772f549",
   "metadata": {},
   "outputs": [],
   "source": [
    "config_ = ClassTester(config)"
   ]
  },
  {
   "cell_type": "code",
   "execution_count": 7,
   "id": "36c309bc",
   "metadata": {},
   "outputs": [
    {
     "data": {
      "text/plain": [
       "'/home/ec2-user/SageMaker/data/gremlin_output/08_26/2021_09_14_18_19_54'"
      ]
     },
     "execution_count": 7,
     "metadata": {},
     "output_type": "execute_result"
    }
   ],
   "source": [
    "config_.LOCAL_OUTPUT"
   ]
  },
  {
   "cell_type": "code",
   "execution_count": 8,
   "id": "587e3e1b",
   "metadata": {},
   "outputs": [
    {
     "data": {
      "text/plain": [
       "<module 'config' from '/home/ec2-user/SageMaker/hcls-kg-workshop/repo-sample/v1/config.py'>"
      ]
     },
     "execution_count": 8,
     "metadata": {},
     "output_type": "execute_result"
    }
   ],
   "source": [
    "config"
   ]
  },
  {
   "cell_type": "code",
   "execution_count": 9,
   "id": "1ccd4877",
   "metadata": {},
   "outputs": [
    {
     "data": {
      "text/plain": [
       "<__main__.ClassTester at 0x7f37648a1048>"
      ]
     },
     "execution_count": 9,
     "metadata": {},
     "output_type": "execute_result"
    }
   ],
   "source": [
    "config_"
   ]
  },
  {
   "cell_type": "code",
   "execution_count": 10,
   "id": "9602333f",
   "metadata": {},
   "outputs": [],
   "source": [
    "# ! aws s3 cp --recursive s3://hcls-kg-workshop/stdized-data-new/comprehend_results/csv/ /home/ec2-user/SageMaker/data/cm_data_0804/"
   ]
  },
  {
   "cell_type": "code",
   "execution_count": 11,
   "id": "ebef9fc3",
   "metadata": {},
   "outputs": [
    {
     "name": "stdout",
     "output_type": "stream",
     "text": [
      "Creating objects...\n"
     ]
    },
    {
     "name": "stderr",
     "output_type": "stream",
     "text": [
      "100%|██████████| 8995/8995 [04:29<00:00, 33.35it/s]\n"
     ]
    },
    {
     "name": "stdout",
     "output_type": "stream",
     "text": [
      "Storing gremlin files locally...\n",
      "Nodes stored at /home/ec2-user/SageMaker/data/gremlin_output/08_26/2021_09_14_18_19_54/nodes/\n",
      "Edges stored at /home/ec2-user/SageMaker/data/gremlin_output/08_26/2021_09_14_18_19_54/nodes/\n",
      "Pushing gremlin files to S3...\n"
     ]
    }
   ],
   "source": [
    "input_files = list_csvs(config_.INPUT_DIR)\n",
    "\n",
    "kgt = knowledgeGraphTransformer(config_)\n",
    "kgt.prepare_neptune_data_from_files(input_files)"
   ]
  },
  {
   "cell_type": "code",
   "execution_count": 12,
   "id": "79f1181f",
   "metadata": {},
   "outputs": [
    {
     "data": {
      "text/plain": [
       "<module 'config' from '/home/ec2-user/SageMaker/tats-migration/2_Build_Gremlin_node_and_edge_datasets/v1/config.py'>"
      ]
     },
     "execution_count": 12,
     "metadata": {},
     "output_type": "execute_result"
    }
   ],
   "source": [
    "config"
   ]
  },
  {
   "cell_type": "code",
   "execution_count": null,
   "id": "198510e6",
   "metadata": {},
   "outputs": [],
   "source": []
  },
  {
   "cell_type": "code",
   "execution_count": 13,
   "id": "96f6d3c5",
   "metadata": {},
   "outputs": [
    {
     "ename": "AttributeError",
     "evalue": "module 'config' has no attribute 'LOCAL_OUTPUT'",
     "output_type": "error",
     "traceback": [
      "\u001b[0;31m---------------------------------------------------------------------------\u001b[0m",
      "\u001b[0;31mAttributeError\u001b[0m                            Traceback (most recent call last)",
      "\u001b[0;32m<ipython-input-13-ee33bbc558b6>\u001b[0m in \u001b[0;36m<module>\u001b[0;34m\u001b[0m\n\u001b[0;32m----> 1\u001b[0;31m \u001b[0mconfig\u001b[0m\u001b[0;34m.\u001b[0m\u001b[0mLOCAL_OUTPUT\u001b[0m\u001b[0;34m\u001b[0m\u001b[0;34m\u001b[0m\u001b[0m\n\u001b[0m",
      "\u001b[0;31mAttributeError\u001b[0m: module 'config' has no attribute 'LOCAL_OUTPUT'"
     ]
    }
   ],
   "source": [
    "config.LOCAL_OUTPUT"
   ]
  },
  {
   "cell_type": "code",
   "execution_count": null,
   "id": "7ad471aa",
   "metadata": {},
   "outputs": [],
   "source": []
  }
 ],
 "metadata": {
  "kernelspec": {
   "display_name": "conda_python3",
   "language": "python",
   "name": "conda_python3"
  },
  "language_info": {
   "codemirror_mode": {
    "name": "ipython",
    "version": 3
   },
   "file_extension": ".py",
   "mimetype": "text/x-python",
   "name": "python",
   "nbconvert_exporter": "python",
   "pygments_lexer": "ipython3",
   "version": "3.6.13"
  }
 },
 "nbformat": 4,
 "nbformat_minor": 5
}
