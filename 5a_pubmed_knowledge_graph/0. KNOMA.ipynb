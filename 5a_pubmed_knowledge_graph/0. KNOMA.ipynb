{
 "cells": [
  {
   "cell_type": "markdown",
   "id": "0ac609f5",
   "metadata": {},
   "source": [
    "## What is knowledge graph (KG)?\n",
    "\n",
    "A knowledge graph (KG) represents a network of entities and the relationship among them. Entities are objects, events, situations, and/or concepts. They are represented as nodes in KG. The relationship between two entities is expressed as an edge. In KG, the edge is described as a predicate connecting a source node (subject) and a destination node (object). The network of subject-predicate-object relationships between thousands of entities constitutes knowledge, therefore it is a knowledge graph."
   ]
  },
  {
   "cell_type": "markdown",
   "id": "73be0899",
   "metadata": {},
   "source": [
    "## Text document is KG\n",
    "\n",
    "Every document potentially contains KG. For example, the named entity recognition (NER) task extracts entities from a human text. In this case, the document and entities found in it are connected by a predicate describing that \"these entities were found in the text\". \n",
    "The natural language is also inherently KG. The relationship of subject-predicate-object is a basis of human language structure. In the context of NER, this task is called relationship extraction. \n",
    "\n",
    "Text data are unstructured. KG is a useful method to convert unstructured text data to structured data. \n"
   ]
  },
  {
   "cell_type": "markdown",
   "id": "bd9d6d17",
   "metadata": {},
   "source": [
    "## Information extraction pipeline for KG\n",
    "\n",
    "We are going to showcase an ambitious prototype of the automatic information extraction pipeline that comes with KG. The pipeline consists of OCR, NER tool, and graph database. Entities are extracted from documents in pdf format and KG is built based on the extracted entities and relationships among them. \n",
    "\n",
    "In this pipeline, Amazon Textract, Amazon Comprehend Medical, and Amazon Neptune are used as OCR, NER tool, and graph database, respectively. We chose Gremlin as the graph traversal language thanks to its compatibility to Neptune ML as of August 2021. \n",
    "\n",
    "This workshop material is composed of four parts. \n",
    "\n",
    "- Document understanding solution using Amazon Textract and Amazon Comprehend Medical\n",
    "- Building a Gremlin compatible graph dataset\n",
    "- Building a Gremlin graph on Neptune\n",
    "- Training and testing GNN models using NeptuneML \n",
    "\n",
    "This is still a prototype. We are hoping to elucidate some shortfalls in this pipeline as well as in each component. We are hoping to kick off constructive conversation towards the production scale automatic KG solution.  \n"
   ]
  },
  {
   "cell_type": "markdown",
   "id": "00490e1e",
   "metadata": {},
   "source": [
    "### Preparation \n",
    "\n",
    "First, we start SageMaker notebook instance for NeptuneML using CloudFormation template described in the following link. \n",
    "\n",
    "https://docs.aws.amazon.com/neptune/latest/userguide/machine-learning.html\n",
    "\n",
    "* On the Select Template page, choose Next.\n",
    "* On the Specify Details page, choose Next.\n",
    "* On the Configure Stack Options page, choose Next.\n",
    "* On the Review page, there are two check boxes that you need to check \n",
    "\n",
    "Open a notebook instance namely **aws-neptune-NeptuneML-test**. \n",
    "\n",
    "Using the terminal in the notebook, clone the following repository. \n",
    "\n",
    "https://\n",
    "\n",
    "Attach to following policies to Neptume ML - SageMaker Execution Role IAM role (e.g. NeptuneMLQuickStart-NeptunMLCoreStac-ExecutionRole-XXXXXXXXX).\n",
    "* AWSCodeCommitFullAccess, \n",
    "* AmazonEC2ContainerRegistryFullAccess, \n",
    "* AmazonS3FullAccess, \n",
    "* AmazonTextractFullAccess, \n",
    "* ComprehendMedicalFullAccess, \n",
    "* AmazonSageMakerFullAccess \n"
   ]
  },
  {
   "cell_type": "markdown",
   "id": "81b2d140",
   "metadata": {},
   "source": [
    "### Acknowledgement\n",
    "\n",
    "- Prithiviraj Jothikumar (prithivj@): Priti is the original author of Knoma\n",
    "- Phi Nguyen (phi@): \n",
    "- Ryan Brand\n",
    "- Miguel Romero\n",
    "- Tatsuya Arai "
   ]
  },
  {
   "cell_type": "code",
   "execution_count": null,
   "id": "e65359ce",
   "metadata": {},
   "outputs": [],
   "source": []
  },
  {
   "cell_type": "code",
   "execution_count": null,
   "id": "be58bd4d",
   "metadata": {},
   "outputs": [],
   "source": []
  }
 ],
 "metadata": {
  "kernelspec": {
   "display_name": "conda_pytorch_p36",
   "language": "python",
   "name": "conda_pytorch_p36"
  },
  "language_info": {
   "codemirror_mode": {
    "name": "ipython",
    "version": 3
   },
   "file_extension": ".py",
   "mimetype": "text/x-python",
   "name": "python",
   "nbconvert_exporter": "python",
   "pygments_lexer": "ipython3",
   "version": "3.6.13"
  }
 },
 "nbformat": 4,
 "nbformat_minor": 5
}
