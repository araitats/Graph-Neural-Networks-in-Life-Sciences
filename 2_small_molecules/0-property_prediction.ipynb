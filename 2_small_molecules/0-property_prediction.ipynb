{
 "cells": [
  {
   "cell_type": "markdown",
   "id": "be4f1357",
   "metadata": {},
   "source": [
    "# Molecular Property Prediction with DGL-LifeSci\n",
    "\n",
    "DGL-LifeSci is a DGL-based package for applying graph neural networks (GNNs) to various problems in life science. In this demo, we will develop a GNN for molecular property prediction.\n",
    "\n",
    "For installation instructions, see [[Github repo]](https://github.com/awslabs/dgl-lifesci)"
   ]
  },
  {
   "cell_type": "markdown",
   "id": "57863cd4",
   "metadata": {},
   "source": [
    "## Section 1: Graph Construction\n",
    "\n",
    "The first step for applying GNNs to molecules is to convert a molecule into a graph. The most intuitive option is to construct molecular graphs where nodes correspond to atoms and edges correspond to bonds. The code snippet below plots a molecular graph from a simplified molecular-input line-entry system (SMILES) string with RDKit."
   ]
  },
  {
   "cell_type": "code",
   "execution_count": 1,
   "id": "f7d879be",
   "metadata": {
    "scrolled": false
   },
   "outputs": [
    {
     "data": {
      "image/png": "[encoded data removed]",
      "image/svg+xml": [
       "<?xml version='1.0' encoding='iso-8859-1'?>\n",
       "<svg version='1.1' baseProfile='full'\n",
       "              xmlns='http://www.w3.org/2000/svg'\n",
       "                      xmlns:rdkit='http://www.rdkit.org/xml'\n",
       "                      xmlns:xlink='http://www.w3.org/1999/xlink'\n",
       "                  xml:space='preserve'\n",
       "width='450px' height='150px' >\n",
       "<rect style='opacity:1.0;fill:#FFFFFF;stroke:none' width='450' height='150' x='0' y='0'> </rect>\n",
       "<path d='M 197.879,143.182 161.764,143.182' style='fill:none;fill-rule:evenodd;stroke:#000000;stroke-width:2px;stroke-linecap:butt;stroke-linejoin:miter;stroke-opacity:1' />\n",
       "<path d='M 161.764,143.182 125.65,143.182' style='fill:none;fill-rule:evenodd;stroke:#0000FF;stroke-width:2px;stroke-linecap:butt;stroke-linejoin:miter;stroke-opacity:1' />\n",
       "<path d='M 187.044,127.436 161.764,127.436' style='fill:none;fill-rule:evenodd;stroke:#000000;stroke-width:2px;stroke-linecap:butt;stroke-linejoin:miter;stroke-opacity:1' />\n",
       "<path d='M 161.764,127.436 136.484,127.436' style='fill:none;fill-rule:evenodd;stroke:#0000FF;stroke-width:2px;stroke-linecap:butt;stroke-linejoin:miter;stroke-opacity:1' />\n",
       "<path d='M 197.879,143.182 237.243,75' style='fill:none;fill-rule:evenodd;stroke:#000000;stroke-width:2px;stroke-linecap:butt;stroke-linejoin:miter;stroke-opacity:1' />\n",
       "<path d='M 114.819,135.682 97.3016,105.341' style='fill:none;fill-rule:evenodd;stroke:#0000FF;stroke-width:2px;stroke-linecap:butt;stroke-linejoin:miter;stroke-opacity:1' />\n",
       "<path d='M 97.3016,105.341 79.7842,75' style='fill:none;fill-rule:evenodd;stroke:#000000;stroke-width:2px;stroke-linecap:butt;stroke-linejoin:miter;stroke-opacity:1' />\n",
       "<path d='M 79.7842,75 97.3016,44.6591' style='fill:none;fill-rule:evenodd;stroke:#000000;stroke-width:2px;stroke-linecap:butt;stroke-linejoin:miter;stroke-opacity:1' />\n",
       "<path d='M 97.3016,44.6591 114.819,14.3182' style='fill:none;fill-rule:evenodd;stroke:#0000FF;stroke-width:2px;stroke-linecap:butt;stroke-linejoin:miter;stroke-opacity:1' />\n",
       "<path d='M 98.6758,73.7707 110.938,52.532' style='fill:none;fill-rule:evenodd;stroke:#000000;stroke-width:2px;stroke-linecap:butt;stroke-linejoin:miter;stroke-opacity:1' />\n",
       "<path d='M 110.938,52.532 123.2,31.2934' style='fill:none;fill-rule:evenodd;stroke:#0000FF;stroke-width:2px;stroke-linecap:butt;stroke-linejoin:miter;stroke-opacity:1' />\n",
       "<path d='M 125.65,6.81818 161.764,6.81818' style='fill:none;fill-rule:evenodd;stroke:#0000FF;stroke-width:2px;stroke-linecap:butt;stroke-linejoin:miter;stroke-opacity:1' />\n",
       "<path d='M 161.764,6.81818 197.879,6.81818' style='fill:none;fill-rule:evenodd;stroke:#000000;stroke-width:2px;stroke-linecap:butt;stroke-linejoin:miter;stroke-opacity:1' />\n",
       "<path d='M 197.879,6.81818 237.243,75' style='fill:none;fill-rule:evenodd;stroke:#000000;stroke-width:2px;stroke-linecap:butt;stroke-linejoin:miter;stroke-opacity:1' />\n",
       "<path d='M 190.147,24.9184 217.702,72.6457' style='fill:none;fill-rule:evenodd;stroke:#000000;stroke-width:2px;stroke-linecap:butt;stroke-linejoin:miter;stroke-opacity:1' />\n",
       "<path d='M 237.243,75 315.973,75' style='fill:none;fill-rule:evenodd;stroke:#000000;stroke-width:2px;stroke-linecap:butt;stroke-linejoin:miter;stroke-opacity:1' />\n",
       "<path d='M 322.791,78.9365 340.309,48.5956' style='fill:none;fill-rule:evenodd;stroke:#000000;stroke-width:2px;stroke-linecap:butt;stroke-linejoin:miter;stroke-opacity:1' />\n",
       "<path d='M 340.309,48.5956 357.826,18.2547' style='fill:none;fill-rule:evenodd;stroke:#FF0000;stroke-width:2px;stroke-linecap:butt;stroke-linejoin:miter;stroke-opacity:1' />\n",
       "<path d='M 309.155,71.0635 326.672,40.7226' style='fill:none;fill-rule:evenodd;stroke:#000000;stroke-width:2px;stroke-linecap:butt;stroke-linejoin:miter;stroke-opacity:1' />\n",
       "<path d='M 326.672,40.7226 344.189,10.3817' style='fill:none;fill-rule:evenodd;stroke:#FF0000;stroke-width:2px;stroke-linecap:butt;stroke-linejoin:miter;stroke-opacity:1' />\n",
       "<path d='M 315.973,75 333.274,104.966' style='fill:none;fill-rule:evenodd;stroke:#000000;stroke-width:2px;stroke-linecap:butt;stroke-linejoin:miter;stroke-opacity:1' />\n",
       "<path d='M 333.274,104.966 350.575,134.932' style='fill:none;fill-rule:evenodd;stroke:#FF0000;stroke-width:2px;stroke-linecap:butt;stroke-linejoin:miter;stroke-opacity:1' />\n",
       "<text x='112.648' y='150.682' style='font-size:15px;font-style:normal;font-weight:normal;fill-opacity:1;stroke:none;font-family:sans-serif;text-anchor:start;fill:#0000FF' ><tspan>N</tspan></text>\n",
       "<text x='112.648' y='14.3182' style='font-size:15px;font-style:normal;font-weight:normal;fill-opacity:1;stroke:none;font-family:sans-serif;text-anchor:start;fill:#0000FF' ><tspan>N</tspan></text>\n",
       "<text x='348.333' y='14.3182' style='font-size:15px;font-style:normal;font-weight:normal;fill-opacity:1;stroke:none;font-family:sans-serif;text-anchor:start;fill:#FF0000' ><tspan>O</tspan></text>\n",
       "<text x='346.834' y='151.432' style='font-size:15px;font-style:normal;font-weight:normal;fill-opacity:1;stroke:none;font-family:sans-serif;text-anchor:start;fill:#FF0000' ><tspan>O</tspan><tspan style='baseline-shift:super;font-size:11.25px;'>-</tspan><tspan></tspan></text>\n",
       "</svg>\n"
      ],
      "text/plain": [
       "<rdkit.Chem.rdchem.Mol at 0x7f84b52834e0>"
      ]
     },
     "execution_count": 1,
     "metadata": {},
     "output_type": "execute_result"
    }
   ],
   "source": [
    "from rdkit import Chem\n",
    "from rdkit.Chem.Draw import IPythonConsole\n",
    "\n",
    "IPythonConsole.ipython_useSVG = True\n",
    "smiles = 'c1ncncc1C(=O)[O-]'\n",
    "mol = Chem.MolFromSmiles('c1ncncc1C(=O)[O-]')\n",
    "mol"
   ]
  },
  {
   "cell_type": "markdown",
   "id": "d30bc2e7",
   "metadata": {},
   "source": [
    "DGL-LifeSci provides a `MolToBigraph` module for converting an RDKit molecule object to a DGLGraph that represents the corresponding molecular graph. The number of nodes is the same as the number of atoms. The number of edges is twice as the number of bonds because the graph is bi-directed, meanining that $(i, j)$ and $(j, i)$ are distinct edges."
   ]
  },
  {
   "cell_type": "code",
   "execution_count": 2,
   "id": "40c934da",
   "metadata": {
    "scrolled": false
   },
   "outputs": [
    {
     "name": "stdout",
     "output_type": "stream",
     "text": [
      "Graph(num_nodes=9, num_edges=18,\n",
      "      ndata_schemes={}\n",
      "      edata_schemes={})\n"
     ]
    }
   ],
   "source": [
    "# Mufei: We need to make a new release of dgllife to include MolToBigraph,\n",
    "#        once we are confident that the tutorial does not need to add more features to dgllife\n",
    "from dgllife.utils import MolToBigraph\n",
    "\n",
    "mol_to_g = MolToBigraph()\n",
    "g = mol_to_g(mol)\n",
    "print(g)\n",
    "assert g.num_nodes() == mol.GetNumAtoms()\n",
    "assert g.num_edges() == 2 * mol.GetNumBonds()"
   ]
  },
  {
   "cell_type": "markdown",
   "id": "1164114c",
   "metadata": {},
   "source": [
    "Alternative popular graph construction options include for example radius graphs and k nearest neighbor (KNN) graphs, particularly when 3D coordinates of atoms are available. For a full list of graph construction methods in DGL-LifeSci, see https://lifesci.dgl.ai/api/utils.mols.html#graph-construction"
   ]
  },
  {
   "cell_type": "markdown",
   "id": "5703d677",
   "metadata": {},
   "source": [
    "## Section 2: Featurization"
   ]
  },
  {
   "cell_type": "markdown",
   "id": "998adf15",
   "metadata": {},
   "source": [
    "It takes both structural and feature information for GNNs to work well. Therefore it is an important step to prepare input node and/or edge features for your graphs.\n",
    "\n",
    "For molecular graphs, it's natural to consider information like atom type/atomic number for node features and bond type for bond features. An example atom featurizer is defined below."
   ]
  },
  {
   "cell_type": "code",
   "execution_count": 3,
   "id": "895dcb08",
   "metadata": {
    "scrolled": false
   },
   "outputs": [
    {
     "name": "stdout",
     "output_type": "stream",
     "text": [
      "[0.12011]\n"
     ]
    }
   ],
   "source": [
    "import torch\n",
    "\n",
    "def atom_mass(atom):\n",
    "    \"\"\"\n",
    "    atom: RDKit atom instance\n",
    "    \"\"\"\n",
    "    return [atom.GetMass() * 0.01]\n",
    "\n",
    "atom = mol.GetAtomWithIdx(0)\n",
    "print(atom_mass(atom))"
   ]
  },
  {
   "cell_type": "markdown",
   "id": "4d3f3085",
   "metadata": {},
   "source": [
    "DGL-LifeSci provides a set of built-in atom and bond featurizer, which can be found at https://lifesci.dgl.ai/api/utils.mols.html#featurization-for-nodes. It's also common to compose multiple featurizers, where `ConcatFeaturizer` can help."
   ]
  },
  {
   "cell_type": "code",
   "execution_count": 4,
   "id": "e8d9520d",
   "metadata": {
    "scrolled": false
   },
   "outputs": [
    {
     "name": "stdout",
     "output_type": "stream",
     "text": [
      "[0.12011, 0]\n"
     ]
    }
   ],
   "source": [
    "from dgllife.utils import ConcatFeaturizer, atom_formal_charge\n",
    "\n",
    "\n",
    "atom_featurizer = ConcatFeaturizer([atom_mass, atom_formal_charge])\n",
    "print(atom_featurizer(atom))"
   ]
  },
  {
   "cell_type": "markdown",
   "id": "42154aae",
   "metadata": {},
   "source": [
    "DGL-LifeSci provides a `BaseAtomFeaturizer` module for applying the featurization to all atoms in a molecule and a `BaseBondFeaturizer` module for applying the featurization to all bonds in a molecule."
   ]
  },
  {
   "cell_type": "code",
   "execution_count": 5,
   "id": "95b59287",
   "metadata": {
    "scrolled": false
   },
   "outputs": [
    {
     "name": "stdout",
     "output_type": "stream",
     "text": [
      "feat size: 2\n",
      "{'feat': tensor([[ 0.1201,  0.0000],\n",
      "        [ 0.1401,  0.0000],\n",
      "        [ 0.1201,  0.0000],\n",
      "        [ 0.1401,  0.0000],\n",
      "        [ 0.1201,  0.0000],\n",
      "        [ 0.1201,  0.0000],\n",
      "        [ 0.1201,  0.0000],\n",
      "        [ 0.1600,  0.0000],\n",
      "        [ 0.1600, -1.0000]])}\n"
     ]
    }
   ],
   "source": [
    "from dgllife.utils import BaseAtomFeaturizer\n",
    "\n",
    "mol_atom_featurizer = BaseAtomFeaturizer({'feat': atom_featurizer})\n",
    "print('feat size:', mol_atom_featurizer.feat_size())\n",
    "print(mol_atom_featurizer(mol))"
   ]
  },
  {
   "cell_type": "markdown",
   "id": "974886ba",
   "metadata": {},
   "source": [
    "## Section 3: Dataset Preparation\n",
    "\n",
    "DGL-LifeSci adopts the widely used comma-separated values (CSV) format for loading a dataset. For demonstration, we first download a data file in CSV format."
   ]
  },
  {
   "cell_type": "code",
   "execution_count": 6,
   "id": "e99cd564",
   "metadata": {
    "scrolled": false
   },
   "outputs": [
    {
     "name": "stdout",
     "output_type": "stream",
     "text": [
      "Downloading FreeSolv.zip from https://data.dgl.ai/dataset/FreeSolv.zip...\n"
     ]
    }
   ],
   "source": [
    "from dgl.data.utils import download, _get_dgl_url, extract_archive\n",
    "\n",
    "url = 'dataset/FreeSolv.zip'\n",
    "data_path = 'FreeSolv.zip'\n",
    "download(_get_dgl_url(url), path=data_path)\n",
    "extract_archive(data_path, './FreeSolv')"
   ]
  },
  {
   "cell_type": "markdown",
   "id": "85ee409f",
   "metadata": {},
   "source": [
    "The CSV file should have a column for SMILES strings (smiles in the file below) and one or multiple columns for properties (expt and calc in the file below)."
   ]
  },
  {
   "cell_type": "code",
   "execution_count": 7,
   "id": "7ee1bcac",
   "metadata": {
    "scrolled": false
   },
   "outputs": [
    {
     "data": {
      "text/html": [
       "<div>\n",
       "<style scoped>\n",
       "    .dataframe tbody tr th:only-of-type {\n",
       "        vertical-align: middle;\n",
       "    }\n",
       "\n",
       "    .dataframe tbody tr th {\n",
       "        vertical-align: top;\n",
       "    }\n",
       "\n",
       "    .dataframe thead th {\n",
       "        text-align: right;\n",
       "    }\n",
       "</style>\n",
       "<table border=\"1\" class=\"dataframe\">\n",
       "  <thead>\n",
       "    <tr style=\"text-align: right;\">\n",
       "      <th></th>\n",
       "      <th>iupac</th>\n",
       "      <th>smiles</th>\n",
       "      <th>expt</th>\n",
       "      <th>calc</th>\n",
       "    </tr>\n",
       "  </thead>\n",
       "  <tbody>\n",
       "    <tr>\n",
       "      <th>0</th>\n",
       "      <td>4-methoxy-N,N-dimethyl-benzamide</td>\n",
       "      <td>CN(C)C(=O)c1ccc(cc1)OC</td>\n",
       "      <td>-11.01</td>\n",
       "      <td>-9.625</td>\n",
       "    </tr>\n",
       "    <tr>\n",
       "      <th>1</th>\n",
       "      <td>methanesulfonyl chloride</td>\n",
       "      <td>CS(=O)(=O)Cl</td>\n",
       "      <td>-4.87</td>\n",
       "      <td>-6.219</td>\n",
       "    </tr>\n",
       "    <tr>\n",
       "      <th>2</th>\n",
       "      <td>3-methylbut-1-ene</td>\n",
       "      <td>CC(C)C=C</td>\n",
       "      <td>1.83</td>\n",
       "      <td>2.452</td>\n",
       "    </tr>\n",
       "    <tr>\n",
       "      <th>3</th>\n",
       "      <td>2-ethylpyrazine</td>\n",
       "      <td>CCc1cnccn1</td>\n",
       "      <td>-5.45</td>\n",
       "      <td>-5.809</td>\n",
       "    </tr>\n",
       "    <tr>\n",
       "      <th>4</th>\n",
       "      <td>heptan-1-ol</td>\n",
       "      <td>CCCCCCCO</td>\n",
       "      <td>-4.21</td>\n",
       "      <td>-2.917</td>\n",
       "    </tr>\n",
       "  </tbody>\n",
       "</table>\n",
       "</div>"
      ],
      "text/plain": [
       "                              iupac                  smiles   expt   calc\n",
       "0  4-methoxy-N,N-dimethyl-benzamide  CN(C)C(=O)c1ccc(cc1)OC -11.01 -9.625\n",
       "1          methanesulfonyl chloride            CS(=O)(=O)Cl  -4.87 -6.219\n",
       "2                 3-methylbut-1-ene                CC(C)C=C   1.83  2.452\n",
       "3                   2-ethylpyrazine              CCc1cnccn1  -5.45 -5.809\n",
       "4                       heptan-1-ol                CCCCCCCO  -4.21 -2.917"
      ]
     },
     "execution_count": 7,
     "metadata": {},
     "output_type": "execute_result"
    }
   ],
   "source": [
    "import pandas as pd\n",
    "\n",
    "df = pd.read_csv('FreeSolv/SAMPL.csv')\n",
    "df.head()"
   ]
  },
  {
   "cell_type": "markdown",
   "id": "ed3521c5",
   "metadata": {},
   "source": [
    "DGL-LifeSci provides `MoleculeCSVDataset` for loading a CSV data file along with graph construction and featurization."
   ]
  },
  {
   "cell_type": "code",
   "execution_count": 8,
   "id": "da2f9906",
   "metadata": {
    "scrolled": false
   },
   "outputs": [
    {
     "name": "stdout",
     "output_type": "stream",
     "text": [
      "Processing dgl graphs from scratch...\n",
      "dataset size: 642\n",
      "('CN(C)C(=O)c1ccc(cc1)OC', Graph(num_nodes=13, num_edges=26,\n",
      "      ndata_schemes={'feat': Scheme(shape=(39,), dtype=torch.float32)}\n",
      "      edata_schemes={'feat': Scheme(shape=(10,), dtype=torch.float32)}), tensor([-11.0100]), tensor([1.]))\n"
     ]
    }
   ],
   "source": [
    "from dgllife.data import MoleculeCSVDataset\n",
    "from dgllife.utils import AttentiveFPAtomFeaturizer, AttentiveFPBondFeaturizer\n",
    "\n",
    "node_featurizer = AttentiveFPAtomFeaturizer(atom_data_field='feat')\n",
    "edge_featurizer = AttentiveFPBondFeaturizer(bond_data_field='feat')\n",
    "dataset = MoleculeCSVDataset(df, \n",
    "                             node_featurizer=node_featurizer,\n",
    "                             edge_featurizer=edge_featurizer,\n",
    "                             smiles_column='smiles',\n",
    "                             task_names=['expt'],\n",
    "                             cache_file_path='dglgraph.bin')\n",
    "print('dataset size:', len(dataset))\n",
    "print(dataset[0])"
   ]
  },
  {
   "cell_type": "markdown",
   "id": "6ec156f3",
   "metadata": {},
   "source": [
    "## Section 4: Training"
   ]
  },
  {
   "cell_type": "markdown",
   "id": "7db33d9f",
   "metadata": {},
   "source": [
    "### Dataset Split"
   ]
  },
  {
   "cell_type": "markdown",
   "id": "8e2a76dc",
   "metadata": {},
   "source": [
    "First, we need to split the dataset into training, validation, and test subsets. One popular option is scaffold split, which groups molecules based on their Bemis-Murcko scaffolds and then split the groups. This encourages the molecules in the different subsets to be more structurally different, and is believed to better resemble the real world out-of-distribution problem."
   ]
  },
  {
   "cell_type": "code",
   "execution_count": 9,
   "id": "ba1a45a9",
   "metadata": {
    "scrolled": false
   },
   "outputs": [
    {
     "name": "stdout",
     "output_type": "stream",
     "text": [
      "Start initializing RDKit molecule instances...\n",
      "Start computing Bemis-Murcko scaffolds.\n"
     ]
    }
   ],
   "source": [
    "from dgllife.utils import ScaffoldSplitter\n",
    "\n",
    "train_set, val_set, test_set = ScaffoldSplitter.train_val_test_split(\n",
    "    dataset, frac_train=0.8, frac_val=0.1, \n",
    "    frac_test=0.1, scaffold_func='smiles')"
   ]
  },
  {
   "cell_type": "markdown",
   "id": "04e93051",
   "metadata": {},
   "source": [
    "### Data Loader"
   ]
  },
  {
   "cell_type": "code",
   "execution_count": 10,
   "id": "4e6548fc",
   "metadata": {
    "scrolled": false
   },
   "outputs": [],
   "source": [
    "from torch.utils.data import DataLoader\n",
    "\n",
    "def collate_molgraphs(data):\n",
    "    smiles, graphs, labels, masks = map(list, zip(*data))\n",
    "\n",
    "    bg = dgl.batch(graphs)\n",
    "    labels = torch.stack(labels, dim=0)\n",
    "    masks = torch.stack(masks, dim=0)\n",
    "\n",
    "    return smiles, bg, labels, masks\n",
    "\n",
    "batch_size = 128\n",
    "train_loader = DataLoader(dataset=train_set, batch_size=batch_size, \n",
    "                          shuffle=True, collate_fn=collate_molgraphs)\n",
    "val_loader = DataLoader(dataset=val_set, batch_size=batch_size,\n",
    "                        collate_fn=collate_molgraphs)\n",
    "test_loader = DataLoader(dataset=test_set, batch_size=batch_size,\n",
    "                         collate_fn=collate_molgraphs)"
   ]
  },
  {
   "cell_type": "markdown",
   "id": "27a79534",
   "metadata": {},
   "source": [
    "### Model Initialization"
   ]
  },
  {
   "cell_type": "code",
   "execution_count": 11,
   "id": "7f33cd4d",
   "metadata": {
    "scrolled": false
   },
   "outputs": [],
   "source": [
    "import torch.nn as nn\n",
    "from dgllife.model import AttentiveFPPredictor\n",
    "from torch.optim import Adam\n",
    "\n",
    "model = AttentiveFPPredictor(\n",
    "    node_feat_size=node_featurizer.feat_size(),\n",
    "    edge_feat_size=edge_featurizer.feat_size(),\n",
    "    n_tasks=dataset.n_tasks\n",
    ")\n",
    "loss_criterion = nn.SmoothL1Loss(reduction='none')\n",
    "optimizer = Adam(model.parameters(), lr=3e-4)"
   ]
  },
  {
   "cell_type": "markdown",
   "id": "521f84db",
   "metadata": {},
   "source": [
    "### Train & Eval"
   ]
  },
  {
   "cell_type": "code",
   "execution_count": 12,
   "id": "bd7ae04a",
   "metadata": {
    "scrolled": true
   },
   "outputs": [
    {
     "name": "stderr",
     "output_type": "stream",
     "text": [
      "/Users/mufei/miniconda3/envs/dgllife/lib/python3.6/site-packages/torch/autocast_mode.py:141: UserWarning: User provided device_type of 'cuda', but CUDA is not available. Disabling\n",
      "  warnings.warn('User provided device_type of \\'cuda\\', but CUDA is not available. Disabling')\n"
     ]
    },
    {
     "name": "stdout",
     "output_type": "stream",
     "text": [
      "epoch 0 | train r2 0.0063 | val r2 0.0457\n",
      "epoch 1 | train r2 0.0625 | val r2 0.0480\n",
      "epoch 2 | train r2 0.0777 | val r2 0.0501\n",
      "epoch 3 | train r2 0.1091 | val r2 0.0562\n",
      "epoch 4 | train r2 0.1409 | val r2 0.0616\n",
      "epoch 5 | train r2 0.1506 | val r2 0.0678\n",
      "epoch 6 | train r2 0.1654 | val r2 0.0754\n",
      "epoch 7 | train r2 0.1799 | val r2 0.0834\n",
      "epoch 8 | train r2 0.1857 | val r2 0.0921\n",
      "epoch 9 | train r2 0.2046 | val r2 0.1001\n",
      "epoch 10 | train r2 0.2082 | val r2 0.1082\n",
      "epoch 11 | train r2 0.2253 | val r2 0.1176\n",
      "epoch 12 | train r2 0.2394 | val r2 0.1265\n",
      "epoch 13 | train r2 0.2510 | val r2 0.1368\n",
      "epoch 14 | train r2 0.2649 | val r2 0.1484\n",
      "epoch 15 | train r2 0.2808 | val r2 0.1639\n",
      "epoch 16 | train r2 0.3001 | val r2 0.1821\n",
      "epoch 17 | train r2 0.3256 | val r2 0.2041\n",
      "epoch 18 | train r2 0.3528 | val r2 0.2341\n",
      "epoch 19 | train r2 0.3901 | val r2 0.2744\n",
      "epoch 20 | train r2 0.4262 | val r2 0.3363\n",
      "epoch 21 | train r2 0.4691 | val r2 0.3978\n",
      "epoch 22 | train r2 0.5045 | val r2 0.4822\n",
      "epoch 23 | train r2 0.5340 | val r2 0.5435\n",
      "epoch 24 | train r2 0.5789 | val r2 0.5870\n",
      "epoch 25 | train r2 0.6238 | val r2 0.6540\n",
      "epoch 26 | train r2 0.6701 | val r2 0.6804\n",
      "epoch 27 | train r2 0.7032 | val r2 0.6806\n",
      "epoch 28 | train r2 0.7271 | val r2 0.7031\n",
      "epoch 29 | train r2 0.7390 | val r2 0.6980\n",
      "epoch 30 | train r2 0.7577 | val r2 0.6710\n",
      "epoch 31 | train r2 0.7796 | val r2 0.7091\n",
      "epoch 32 | train r2 0.7934 | val r2 0.7368\n",
      "epoch 33 | train r2 0.8086 | val r2 0.7405\n",
      "epoch 34 | train r2 0.8210 | val r2 0.7675\n",
      "epoch 35 | train r2 0.8330 | val r2 0.7871\n",
      "epoch 36 | train r2 0.8438 | val r2 0.7955\n",
      "epoch 37 | train r2 0.8507 | val r2 0.8284\n",
      "epoch 38 | train r2 0.8549 | val r2 0.8429\n",
      "epoch 39 | train r2 0.8501 | val r2 0.8107\n",
      "epoch 40 | train r2 0.8855 | val r2 0.8166\n",
      "epoch 41 | train r2 0.8885 | val r2 0.8417\n",
      "epoch 42 | train r2 0.9012 | val r2 0.8418\n",
      "epoch 43 | train r2 0.9081 | val r2 0.8390\n",
      "epoch 44 | train r2 0.9091 | val r2 0.8559\n",
      "epoch 45 | train r2 0.9092 | val r2 0.8626\n",
      "epoch 46 | train r2 0.9106 | val r2 0.8623\n",
      "epoch 47 | train r2 0.9199 | val r2 0.8511\n",
      "epoch 48 | train r2 0.9214 | val r2 0.8615\n",
      "epoch 49 | train r2 0.9251 | val r2 0.8718\n",
      "epoch 50 | train r2 0.9276 | val r2 0.8778\n",
      "epoch 51 | train r2 0.9274 | val r2 0.8733\n",
      "epoch 52 | train r2 0.9335 | val r2 0.8713\n",
      "epoch 53 | train r2 0.9346 | val r2 0.8777\n",
      "epoch 54 | train r2 0.9367 | val r2 0.8816\n",
      "epoch 55 | train r2 0.9385 | val r2 0.8749\n",
      "epoch 56 | train r2 0.9342 | val r2 0.8847\n",
      "epoch 57 | train r2 0.9366 | val r2 0.8928\n",
      "epoch 58 | train r2 0.9376 | val r2 0.8909\n",
      "epoch 59 | train r2 0.9409 | val r2 0.8923\n",
      "epoch 60 | train r2 0.9424 | val r2 0.8907\n",
      "epoch 61 | train r2 0.9413 | val r2 0.8888\n",
      "epoch 62 | train r2 0.9435 | val r2 0.8944\n",
      "epoch 63 | train r2 0.9435 | val r2 0.8953\n",
      "epoch 64 | train r2 0.9446 | val r2 0.8962\n",
      "epoch 65 | train r2 0.9449 | val r2 0.8992\n",
      "epoch 66 | train r2 0.9445 | val r2 0.8988\n",
      "epoch 67 | train r2 0.9462 | val r2 0.8973\n",
      "epoch 68 | train r2 0.9453 | val r2 0.8962\n",
      "epoch 69 | train r2 0.9461 | val r2 0.9012\n",
      "epoch 70 | train r2 0.9469 | val r2 0.9044\n",
      "epoch 71 | train r2 0.9462 | val r2 0.9024\n",
      "epoch 72 | train r2 0.9442 | val r2 0.8949\n",
      "epoch 73 | train r2 0.9434 | val r2 0.8966\n",
      "epoch 74 | train r2 0.9456 | val r2 0.9030\n",
      "epoch 75 | train r2 0.9487 | val r2 0.9050\n",
      "epoch 76 | train r2 0.9505 | val r2 0.8987\n",
      "epoch 77 | train r2 0.9511 | val r2 0.9016\n",
      "epoch 78 | train r2 0.9514 | val r2 0.8987\n",
      "epoch 79 | train r2 0.9525 | val r2 0.8967\n",
      "epoch 80 | train r2 0.9525 | val r2 0.8974\n",
      "epoch 81 | train r2 0.9540 | val r2 0.9011\n",
      "epoch 82 | train r2 0.9533 | val r2 0.8985\n",
      "epoch 83 | train r2 0.9548 | val r2 0.8974\n",
      "epoch 84 | train r2 0.9545 | val r2 0.9001\n",
      "epoch 85 | train r2 0.9542 | val r2 0.8931\n",
      "epoch 86 | train r2 0.9521 | val r2 0.8952\n",
      "epoch 87 | train r2 0.9527 | val r2 0.8977\n",
      "epoch 88 | train r2 0.9554 | val r2 0.8984\n",
      "epoch 89 | train r2 0.9557 | val r2 0.9003\n",
      "epoch 90 | train r2 0.9561 | val r2 0.8983\n",
      "epoch 91 | train r2 0.9554 | val r2 0.8958\n",
      "epoch 92 | train r2 0.9575 | val r2 0.8990\n",
      "epoch 93 | train r2 0.9560 | val r2 0.8976\n",
      "epoch 94 | train r2 0.9575 | val r2 0.8961\n",
      "epoch 95 | train r2 0.9554 | val r2 0.9000\n",
      "epoch 96 | train r2 0.9513 | val r2 0.8994\n",
      "epoch 97 | train r2 0.9537 | val r2 0.9032\n",
      "epoch 98 | train r2 0.9535 | val r2 0.9038\n",
      "epoch 99 | train r2 0.9554 | val r2 0.8997\n",
      "test r2 0.7530\n"
     ]
    }
   ],
   "source": [
    "import dgl\n",
    "import numpy as np\n",
    "from dgllife.utils import Meter\n",
    "\n",
    "def run_a_train_epoch(model, data_loader, loss_criterion, optimizer):\n",
    "    model.train()\n",
    "    train_meter = Meter()\n",
    "    for _, batch_data in enumerate(data_loader):\n",
    "        smiles, bg, labels, masks = batch_data\n",
    "        if len(smiles) == 1:\n",
    "            # Avoid potential issues with batch normalization\n",
    "            continue\n",
    "        \n",
    "        pred = model(bg, bg.ndata['feat'], bg.edata['feat'])\n",
    "        loss = (loss_criterion(pred, labels) * (masks != 0).float()).mean()\n",
    "        optimizer.zero_grad()\n",
    "        loss.backward()\n",
    "        optimizer.step()\n",
    "        train_meter.update(pred, labels, masks)\n",
    "    return np.mean(train_meter.compute_metric('r2'))\n",
    "\n",
    "def run_an_eval_epoch(model, data_loader):\n",
    "    model.eval()\n",
    "    eval_meter = Meter()\n",
    "    for _, batch_data in enumerate(data_loader):\n",
    "        smiles, bg, labels, masks = batch_data\n",
    "        pred = model(bg, bg.ndata['feat'], bg.edata['feat'])\n",
    "        eval_meter.update(pred, labels, masks)\n",
    "    return np.mean(eval_meter.compute_metric('r2'))\n",
    "\n",
    "for epoch in range(100):\n",
    "    train_r2 = run_a_train_epoch(model, train_loader, loss_criterion, optimizer)\n",
    "    val_r2 = run_an_eval_epoch(model, val_loader)\n",
    "    print('epoch {:d} | train r2 {:.4f} | val r2 {:.4f}'.format(epoch, train_r2, val_r2))\n",
    "test_r2 = run_an_eval_epoch(model, test_loader)\n",
    "print('test r2 {:.4f}'.format(test_r2))"
   ]
  },
  {
   "cell_type": "markdown",
   "id": "997582f3",
   "metadata": {},
   "source": [
    "Once we have a trained model, we can then save the model and apply it to other molecules if needed.\n",
    "\n",
    "Section 1-4 is a subset of the command-line interface [here](https://github.com/awslabs/dgl-lifesci/tree/master/examples/property_prediction/csv_data_configuration)."
   ]
  },
  {
   "cell_type": "markdown",
   "id": "5131b82a",
   "metadata": {},
   "source": [
    "## Section 5: Attention Visualization"
   ]
  },
  {
   "cell_type": "markdown",
   "id": "3b72b046",
   "metadata": {},
   "source": [
    "AttentiveFP is an attention-based GNN. We can retrieve the attention values of a trained model over a molecule and plot them."
   ]
  },
  {
   "cell_type": "code",
   "execution_count": 13,
   "id": "a20e6fe9",
   "metadata": {},
   "outputs": [
    {
     "data": {
      "image/svg+xml": [
       "<svg baseProfile=\"full\" height=\"280px\" version=\"1.1\" width=\"280px\" xml:space=\"preserve\" xmlns=\"http://www.w3.org/2000/svg\" xmlns:rdkit=\"http://www.rdkit.org/xml\" xmlns:xlink=\"http://www.w3.org/1999/xlink\">\n",
       "<rect height=\"280\" style=\"opacity:1.0;fill:#FFFFFF;stroke:none\" width=\"280\" x=\"0\" y=\"0\"> </rect>\n",
       "<ellipse cx=\"12.7273\" cy=\"133.869\" rx=\"10.8898\" ry=\"10.8898\" style=\"fill:#FDD6AE;fill-rule:evenodd;stroke:#FDD6AE;stroke-width:1px;stroke-linecap:butt;stroke-linejoin:miter;stroke-opacity:1\"/>\n",
       "<ellipse cx=\"52.582\" cy=\"124.968\" rx=\"10.8898\" ry=\"10.8898\" style=\"fill:#CB4301;fill-rule:evenodd;stroke:#CB4301;stroke-width:1px;stroke-linecap:butt;stroke-linejoin:miter;stroke-opacity:1\"/>\n",
       "<ellipse cx=\"64.8008\" cy=\"86.0019\" rx=\"10.8898\" ry=\"10.8898\" style=\"fill:#FDC48E;fill-rule:evenodd;stroke:#FDC48E;stroke-width:1px;stroke-linecap:butt;stroke-linejoin:miter;stroke-opacity:1\"/>\n",
       "<ellipse cx=\"80.2179\" cy=\"155.032\" rx=\"10.8898\" ry=\"10.8898\" style=\"fill:#F06812;fill-rule:evenodd;stroke:#F06812;stroke-width:1px;stroke-linecap:butt;stroke-linejoin:miter;stroke-opacity:1\"/>\n",
       "<ellipse cx=\"67.9992\" cy=\"193.998\" rx=\"10.8898\" ry=\"10.8898\" style=\"fill:#FEF1E4;fill-rule:evenodd;stroke:#FEF1E4;stroke-width:1px;stroke-linecap:butt;stroke-linejoin:miter;stroke-opacity:1\"/>\n",
       "<ellipse cx=\"120.073\" cy=\"146.131\" rx=\"10.8898\" ry=\"10.8898\" style=\"fill:#CC4301;fill-rule:evenodd;stroke:#CC4301;stroke-width:1px;stroke-linecap:butt;stroke-linejoin:miter;stroke-opacity:1\"/>\n",
       "<ellipse cx=\"132.291\" cy=\"107.165\" rx=\"10.8898\" ry=\"10.8898\" style=\"fill:#EB610E;fill-rule:evenodd;stroke:#EB610E;stroke-width:1px;stroke-linecap:butt;stroke-linejoin:miter;stroke-opacity:1\"/>\n",
       "<ellipse cx=\"172.146\" cy=\"98.2643\" rx=\"10.8898\" ry=\"10.8898\" style=\"fill:#FFF5EB;fill-rule:evenodd;stroke:#FFF5EB;stroke-width:1px;stroke-linecap:butt;stroke-linejoin:miter;stroke-opacity:1\"/>\n",
       "<ellipse cx=\"199.782\" cy=\"128.329\" rx=\"10.8898\" ry=\"10.8898\" style=\"fill:#EB610E;fill-rule:evenodd;stroke:#EB610E;stroke-width:1px;stroke-linecap:butt;stroke-linejoin:miter;stroke-opacity:1\"/>\n",
       "<ellipse cx=\"187.563\" cy=\"167.295\" rx=\"10.8898\" ry=\"10.8898\" style=\"fill:#FD974B;fill-rule:evenodd;stroke:#FD974B;stroke-width:1px;stroke-linecap:butt;stroke-linejoin:miter;stroke-opacity:1\"/>\n",
       "<ellipse cx=\"147.709\" cy=\"176.196\" rx=\"10.8898\" ry=\"10.8898\" style=\"fill:#F06812;fill-rule:evenodd;stroke:#F06812;stroke-width:1px;stroke-linecap:butt;stroke-linejoin:miter;stroke-opacity:1\"/>\n",
       "<ellipse cx=\"239.637\" cy=\"119.428\" rx=\"10.8898\" ry=\"10.8898\" style=\"fill:#E95F0D;fill-rule:evenodd;stroke:#E95F0D;stroke-width:1px;stroke-linecap:butt;stroke-linejoin:miter;stroke-opacity:1\"/>\n",
       "<ellipse cx=\"267.273\" cy=\"149.493\" rx=\"10.8898\" ry=\"10.8898\" style=\"fill:#FDC48E;fill-rule:evenodd;stroke:#FDC48E;stroke-width:1px;stroke-linecap:butt;stroke-linejoin:miter;stroke-opacity:1\"/>\n",
       "<path d=\"M 12.7273,133.869 26.7555,130.736\" style=\"fill:none;fill-rule:evenodd;stroke:#000000;stroke-width:2px;stroke-linecap:butt;stroke-linejoin:miter;stroke-opacity:1\"/>\n",
       "<path d=\"M 26.7555,130.736 40.7837,127.603\" style=\"fill:none;fill-rule:evenodd;stroke:#0000FF;stroke-width:2px;stroke-linecap:butt;stroke-linejoin:miter;stroke-opacity:1\"/>\n",
       "<path d=\"M 56.8505,111.355 60.8256,98.6787\" style=\"fill:none;fill-rule:evenodd;stroke:#0000FF;stroke-width:2px;stroke-linecap:butt;stroke-linejoin:miter;stroke-opacity:1\"/>\n",
       "<path d=\"M 60.8256,98.6787 64.8008,86.0019\" style=\"fill:none;fill-rule:evenodd;stroke:#000000;stroke-width:2px;stroke-linecap:butt;stroke-linejoin:miter;stroke-opacity:1\"/>\n",
       "<path d=\"M 64.3803,137.803 72.2991,146.418\" style=\"fill:none;fill-rule:evenodd;stroke:#0000FF;stroke-width:2px;stroke-linecap:butt;stroke-linejoin:miter;stroke-opacity:1\"/>\n",
       "<path d=\"M 72.2991,146.418 80.2179,155.032\" style=\"fill:none;fill-rule:evenodd;stroke:#000000;stroke-width:2px;stroke-linecap:butt;stroke-linejoin:miter;stroke-opacity:1\"/>\n",
       "<path d=\"M 76.3214,153.81 72.3462,166.487\" style=\"fill:none;fill-rule:evenodd;stroke:#000000;stroke-width:2px;stroke-linecap:butt;stroke-linejoin:miter;stroke-opacity:1\"/>\n",
       "<path d=\"M 72.3462,166.487 68.3711,179.164\" style=\"fill:none;fill-rule:evenodd;stroke:#FF0000;stroke-width:2px;stroke-linecap:butt;stroke-linejoin:miter;stroke-opacity:1\"/>\n",
       "<path d=\"M 84.1145,156.254 80.1394,168.931\" style=\"fill:none;fill-rule:evenodd;stroke:#000000;stroke-width:2px;stroke-linecap:butt;stroke-linejoin:miter;stroke-opacity:1\"/>\n",
       "<path d=\"M 80.1394,168.931 76.1642,181.608\" style=\"fill:none;fill-rule:evenodd;stroke:#FF0000;stroke-width:2px;stroke-linecap:butt;stroke-linejoin:miter;stroke-opacity:1\"/>\n",
       "<path d=\"M 80.2179,155.032 120.073,146.131\" style=\"fill:none;fill-rule:evenodd;stroke:#000000;stroke-width:2px;stroke-linecap:butt;stroke-linejoin:miter;stroke-opacity:1\"/>\n",
       "<path d=\"M 120.073,146.131 132.291,107.165\" style=\"fill:none;fill-rule:evenodd;stroke:#000000;stroke-width:2px;stroke-linecap:butt;stroke-linejoin:miter;stroke-opacity:1\"/>\n",
       "<path d=\"M 129.699,142.73 138.252,115.454\" style=\"fill:none;fill-rule:evenodd;stroke:#000000;stroke-width:2px;stroke-linecap:butt;stroke-linejoin:miter;stroke-opacity:1\"/>\n",
       "<path d=\"M 120.073,146.131 147.709,176.196\" style=\"fill:none;fill-rule:evenodd;stroke:#000000;stroke-width:2px;stroke-linecap:butt;stroke-linejoin:miter;stroke-opacity:1\"/>\n",
       "<path d=\"M 132.291,107.165 172.146,98.2643\" style=\"fill:none;fill-rule:evenodd;stroke:#000000;stroke-width:2px;stroke-linecap:butt;stroke-linejoin:miter;stroke-opacity:1\"/>\n",
       "<path d=\"M 172.146,98.2643 199.782,128.329\" style=\"fill:none;fill-rule:evenodd;stroke:#000000;stroke-width:2px;stroke-linecap:butt;stroke-linejoin:miter;stroke-opacity:1\"/>\n",
       "<path d=\"M 170.279,108.301 189.624,129.346\" style=\"fill:none;fill-rule:evenodd;stroke:#000000;stroke-width:2px;stroke-linecap:butt;stroke-linejoin:miter;stroke-opacity:1\"/>\n",
       "<path d=\"M 199.782,128.329 187.563,167.295\" style=\"fill:none;fill-rule:evenodd;stroke:#000000;stroke-width:2px;stroke-linecap:butt;stroke-linejoin:miter;stroke-opacity:1\"/>\n",
       "<path d=\"M 199.782,128.329 213.353,125.298\" style=\"fill:none;fill-rule:evenodd;stroke:#000000;stroke-width:2px;stroke-linecap:butt;stroke-linejoin:miter;stroke-opacity:1\"/>\n",
       "<path d=\"M 213.353,125.298 226.923,122.267\" style=\"fill:none;fill-rule:evenodd;stroke:#FF0000;stroke-width:2px;stroke-linecap:butt;stroke-linejoin:miter;stroke-opacity:1\"/>\n",
       "<path d=\"M 187.563,167.295 147.709,176.196\" style=\"fill:none;fill-rule:evenodd;stroke:#000000;stroke-width:2px;stroke-linecap:butt;stroke-linejoin:miter;stroke-opacity:1\"/>\n",
       "<path d=\"M 179.805,160.659 151.907,166.89\" style=\"fill:none;fill-rule:evenodd;stroke:#000000;stroke-width:2px;stroke-linecap:butt;stroke-linejoin:miter;stroke-opacity:1\"/>\n",
       "<path d=\"M 252.149,133.04 259.711,141.266\" style=\"fill:none;fill-rule:evenodd;stroke:#FF0000;stroke-width:2px;stroke-linecap:butt;stroke-linejoin:miter;stroke-opacity:1\"/>\n",
       "<path d=\"M 259.711,141.266 267.273,149.493\" style=\"fill:none;fill-rule:evenodd;stroke:#000000;stroke-width:2px;stroke-linecap:butt;stroke-linejoin:miter;stroke-opacity:1\"/>\n",
       "<text style=\"font-size:27px;font-style:normal;font-weight:normal;fill-opacity:1;stroke:none;font-family:sans-serif;text-anchor:start;fill:#0000FF\" x=\"40.7837\" y=\"138.58\"><tspan>N</tspan></text>\n",
       "<text style=\"font-size:27px;font-style:normal;font-weight:normal;fill-opacity:1;stroke:none;font-family:sans-serif;text-anchor:start;fill:#FF0000\" x=\"55.2857\" y=\"207.61\"><tspan>O</tspan></text>\n",
       "<text style=\"font-size:27px;font-style:normal;font-weight:normal;fill-opacity:1;stroke:none;font-family:sans-serif;text-anchor:start;fill:#FF0000\" x=\"226.923\" y=\"133.04\"><tspan>O</tspan></text>\n",
       "</svg>"
      ],
      "text/plain": [
       "<IPython.core.display.SVG object>"
      ]
     },
     "metadata": {},
     "output_type": "display_data"
    }
   ],
   "source": [
    "import matplotlib\n",
    "import matplotlib.cm as cm\n",
    "\n",
    "from IPython.display import SVG, display\n",
    "from rdkit.Chem import rdDepictor\n",
    "from rdkit.Chem.Draw import rdMolDraw2D\n",
    "\n",
    "smiles, g, _, _ = dataset[0]\n",
    "_, atom_weights = model(g, g.ndata['feat'], g.edata['feat'], get_node_weight=True)\n",
    "# atom_weights is a list of length 2\n",
    "# we use the second suite of atom weights for visualization in this demo\n",
    "atom_weights = atom_weights[-1]\n",
    "\n",
    "# min-max normalization to make it easier to distinguish attention values\n",
    "min_value = torch.min(atom_weights)\n",
    "max_value = torch.max(atom_weights)\n",
    "atom_weights = (atom_weights - min_value) / (max_value - min_value)\n",
    "\n",
    "# Conver the weights to atom colors\n",
    "norm = matplotlib.colors.Normalize(vmin=0, vmax=1.28)\n",
    "cmap = cm.get_cmap('Oranges')\n",
    "plt_colors = cm.ScalarMappable(norm=norm, cmap=cmap)\n",
    "atom_colors = {i: plt_colors.to_rgba(atom_weights[i].data.item()) \n",
    "               for i in range(g.num_nodes())}\n",
    "\n",
    "mol = Chem.MolFromSmiles(smiles)\n",
    "rdDepictor.Compute2DCoords(mol)\n",
    "drawer = rdMolDraw2D.MolDraw2DSVG(280,280)\n",
    "drawer.SetFontSize(1)\n",
    "op = drawer.drawOptions()\n",
    "    \n",
    "mol = rdMolDraw2D.PrepareMolForDrawing(mol)\n",
    "drawer.DrawMolecule(mol, highlightAtoms=range(g.num_nodes()),highlightBonds=[],\n",
    "                    highlightAtomColors=atom_colors)\n",
    "drawer.FinishDrawing()\n",
    "svg = drawer.GetDrawingText()\n",
    "svg = svg.replace('svg:','')\n",
    "display(SVG(svg))"
   ]
  }
 ],
 "metadata": {
  "kernelspec": {
   "display_name": "dgllife",
   "language": "python",
   "name": "dgllife"
  },
  "language_info": {
   "codemirror_mode": {
    "name": "ipython",
    "version": 3
   },
   "file_extension": ".py",
   "mimetype": "text/x-python",
   "name": "python",
   "nbconvert_exporter": "python",
   "pygments_lexer": "ipython3",
   "version": "3.6.13"
  }
 },
 "nbformat": 4,
 "nbformat_minor": 5
}
