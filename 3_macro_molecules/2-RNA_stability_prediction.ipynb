{
 "cells": [
  {
   "cell_type": "markdown",
   "id": "3b341199",
   "metadata": {},
   "source": [
    "# COVID-19 mRNA vaccine degregdation prediction using GNN\n",
    "\n",
    "## 0. Set up"
   ]
  },
  {
   "cell_type": "code",
   "execution_count": 46,
   "id": "ad97ebd5",
   "metadata": {
    "collapsed": true,
    "jupyter": {
     "outputs_hidden": true
    }
   },
   "outputs": [
    {
     "name": "stdout",
     "output_type": "stream",
     "text": [
      "Looking in indexes: https://pypi.org/simple, https://pip.repos.neuron.amazonaws.com\n",
      "Looking in links: https://data.dgl.ai/wheels/repo.html\n",
      "Collecting dgl\n",
      "  Downloading https://data.dgl.ai/wheels/dgl-0.8.2-cp38-cp38-manylinux1_x86_64.whl (6.2 MB)\n",
      "\u001b[2K     \u001b[90m━━━━━━━━━━━━━━━━━━━━━━━━━━━━━━━━━━━━━━━━\u001b[0m \u001b[32m6.2/6.2 MB\u001b[0m \u001b[31m12.8 MB/s\u001b[0m eta \u001b[36m0:00:00\u001b[0m00:01\u001b[0m00:01\u001b[0m\n",
      "\u001b[?25hCollecting dglgo\n",
      "  Downloading dglgo-0.0.1-py3-none-any.whl (77 kB)\n",
      "\u001b[2K     \u001b[90m━━━━━━━━━━━━━━━━━━━━━━━━━━━━━━━━━━━━━━━━\u001b[0m \u001b[32m77.2/77.2 KB\u001b[0m \u001b[31m5.0 MB/s\u001b[0m eta \u001b[36m0:00:00\u001b[0m\n",
      "\u001b[?25hRequirement already satisfied: numpy>=1.14.0 in /home/ec2-user/anaconda3/envs/pytorch_p38/lib/python3.8/site-packages (from dgl) (1.21.2)\n",
      "Requirement already satisfied: psutil>=5.8.0 in /home/ec2-user/anaconda3/envs/pytorch_p38/lib/python3.8/site-packages (from dgl) (5.8.0)\n",
      "Requirement already satisfied: requests>=2.19.0 in /home/ec2-user/anaconda3/envs/pytorch_p38/lib/python3.8/site-packages (from dgl) (2.26.0)\n",
      "Requirement already satisfied: scipy>=1.1.0 in /home/ec2-user/anaconda3/envs/pytorch_p38/lib/python3.8/site-packages (from dgl) (1.7.2)\n",
      "Requirement already satisfied: networkx>=2.1 in /home/ec2-user/anaconda3/envs/pytorch_p38/lib/python3.8/site-packages (from dgl) (2.6.3)\n",
      "Requirement already satisfied: tqdm in /home/ec2-user/anaconda3/envs/pytorch_p38/lib/python3.8/site-packages (from dgl) (4.62.3)\n",
      "Requirement already satisfied: isort>=5.10.1 in /home/ec2-user/anaconda3/envs/pytorch_p38/lib/python3.8/site-packages (from dglgo) (5.10.1)\n",
      "Collecting pydantic>=1.9.0\n",
      "  Downloading pydantic-1.9.1-cp38-cp38-manylinux_2_17_x86_64.manylinux2014_x86_64.whl (12.7 MB)\n",
      "\u001b[2K     \u001b[90m━━━━━━━━━━━━━━━━━━━━━━━━━━━━━━━━━━━━━━━━\u001b[0m \u001b[32m12.7/12.7 MB\u001b[0m \u001b[31m23.3 MB/s\u001b[0m eta \u001b[36m0:00:00\u001b[0m00:01\u001b[0m0:01\u001b[0m\n",
      "\u001b[?25hRequirement already satisfied: typer>=0.4.0 in /home/ec2-user/anaconda3/envs/pytorch_p38/lib/python3.8/site-packages (from dglgo) (0.4.0)\n",
      "Collecting ruamel.yaml>=0.17.20\n",
      "  Downloading ruamel.yaml-0.17.21-py3-none-any.whl (109 kB)\n",
      "\u001b[2K     \u001b[90m━━━━━━━━━━━━━━━━━━━━━━━━━━━━━━━━━━━━━━\u001b[0m \u001b[32m109.5/109.5 KB\u001b[0m \u001b[31m27.4 MB/s\u001b[0m eta \u001b[36m0:00:00\u001b[0m\n",
      "\u001b[?25hRequirement already satisfied: PyYAML>=5.1 in /home/ec2-user/anaconda3/envs/pytorch_p38/lib/python3.8/site-packages (from dglgo) (5.4.1)\n",
      "Collecting autopep8>=1.6.0\n",
      "  Downloading autopep8-1.6.0-py2.py3-none-any.whl (45 kB)\n",
      "\u001b[2K     \u001b[90m━━━━━━━━━━━━━━━━━━━━━━━━━━━━━━━━━━━━━━━━\u001b[0m \u001b[32m45.3/45.3 KB\u001b[0m \u001b[31m9.3 MB/s\u001b[0m eta \u001b[36m0:00:00\u001b[0m\n",
      "\u001b[?25hRequirement already satisfied: numpydoc>=1.1.0 in /home/ec2-user/anaconda3/envs/pytorch_p38/lib/python3.8/site-packages (from dglgo) (1.1.0)\n",
      "Requirement already satisfied: toml in /home/ec2-user/anaconda3/envs/pytorch_p38/lib/python3.8/site-packages (from autopep8>=1.6.0->dglgo) (0.10.2)\n",
      "Collecting pycodestyle>=2.8.0\n",
      "  Downloading pycodestyle-2.8.0-py2.py3-none-any.whl (42 kB)\n",
      "\u001b[2K     \u001b[90m━━━━━━━━━━━━━━━━━━━━━━━━━━━━━━━━━━━━━━━━\u001b[0m \u001b[32m42.1/42.1 KB\u001b[0m \u001b[31m12.5 MB/s\u001b[0m eta \u001b[36m0:00:00\u001b[0m\n",
      "\u001b[?25hRequirement already satisfied: sphinx>=1.6.5 in /home/ec2-user/anaconda3/envs/pytorch_p38/lib/python3.8/site-packages (from numpydoc>=1.1.0->dglgo) (4.3.0)\n",
      "Requirement already satisfied: Jinja2>=2.3 in /home/ec2-user/anaconda3/envs/pytorch_p38/lib/python3.8/site-packages (from numpydoc>=1.1.0->dglgo) (3.0.3)\n",
      "Requirement already satisfied: typing-extensions>=3.7.4.3 in /home/ec2-user/anaconda3/envs/pytorch_p38/lib/python3.8/site-packages (from pydantic>=1.9.0->dglgo) (4.0.0)\n",
      "Requirement already satisfied: charset-normalizer~=2.0.0 in /home/ec2-user/anaconda3/envs/pytorch_p38/lib/python3.8/site-packages (from requests>=2.19.0->dgl) (2.0.7)\n",
      "Requirement already satisfied: urllib3<1.27,>=1.21.1 in /home/ec2-user/anaconda3/envs/pytorch_p38/lib/python3.8/site-packages (from requests>=2.19.0->dgl) (1.26.8)\n",
      "Requirement already satisfied: certifi>=2017.4.17 in /home/ec2-user/anaconda3/envs/pytorch_p38/lib/python3.8/site-packages (from requests>=2.19.0->dgl) (2021.10.8)\n",
      "Requirement already satisfied: idna<4,>=2.5 in /home/ec2-user/anaconda3/envs/pytorch_p38/lib/python3.8/site-packages (from requests>=2.19.0->dgl) (3.1)\n",
      "Collecting ruamel.yaml.clib>=0.2.6\n",
      "  Downloading ruamel.yaml.clib-0.2.6-cp38-cp38-manylinux1_x86_64.whl (570 kB)\n",
      "\u001b[2K     \u001b[90m━━━━━━━━━━━━━━━━━━━━━━━━━━━━━━━━━━━━━━━\u001b[0m \u001b[32m570.4/570.4 KB\u001b[0m \u001b[31m8.9 MB/s\u001b[0m eta \u001b[36m0:00:00\u001b[0m00:01\u001b[0m\n",
      "\u001b[?25hRequirement already satisfied: click<9.0.0,>=7.1.1 in /home/ec2-user/anaconda3/envs/pytorch_p38/lib/python3.8/site-packages (from typer>=0.4.0->dglgo) (8.0.3)\n",
      "Requirement already satisfied: MarkupSafe>=2.0 in /home/ec2-user/anaconda3/envs/pytorch_p38/lib/python3.8/site-packages (from Jinja2>=2.3->numpydoc>=1.1.0->dglgo) (2.0.1)\n",
      "Requirement already satisfied: imagesize in /home/ec2-user/anaconda3/envs/pytorch_p38/lib/python3.8/site-packages (from sphinx>=1.6.5->numpydoc>=1.1.0->dglgo) (1.3.0)\n",
      "Requirement already satisfied: sphinxcontrib-serializinghtml>=1.1.5 in /home/ec2-user/anaconda3/envs/pytorch_p38/lib/python3.8/site-packages (from sphinx>=1.6.5->numpydoc>=1.1.0->dglgo) (1.1.5)\n",
      "Requirement already satisfied: packaging in /home/ec2-user/anaconda3/envs/pytorch_p38/lib/python3.8/site-packages (from sphinx>=1.6.5->numpydoc>=1.1.0->dglgo) (21.3)\n",
      "Requirement already satisfied: docutils<0.18,>=0.14 in /home/ec2-user/anaconda3/envs/pytorch_p38/lib/python3.8/site-packages (from sphinx>=1.6.5->numpydoc>=1.1.0->dglgo) (0.15.2)\n",
      "Requirement already satisfied: sphinxcontrib-qthelp in /home/ec2-user/anaconda3/envs/pytorch_p38/lib/python3.8/site-packages (from sphinx>=1.6.5->numpydoc>=1.1.0->dglgo) (1.0.3)\n",
      "Requirement already satisfied: setuptools in /home/ec2-user/anaconda3/envs/pytorch_p38/lib/python3.8/site-packages (from sphinx>=1.6.5->numpydoc>=1.1.0->dglgo) (59.2.0)\n",
      "Requirement already satisfied: sphinxcontrib-htmlhelp>=2.0.0 in /home/ec2-user/anaconda3/envs/pytorch_p38/lib/python3.8/site-packages (from sphinx>=1.6.5->numpydoc>=1.1.0->dglgo) (2.0.0)\n",
      "Requirement already satisfied: alabaster<0.8,>=0.7 in /home/ec2-user/anaconda3/envs/pytorch_p38/lib/python3.8/site-packages (from sphinx>=1.6.5->numpydoc>=1.1.0->dglgo) (0.7.12)\n",
      "Requirement already satisfied: sphinxcontrib-applehelp in /home/ec2-user/anaconda3/envs/pytorch_p38/lib/python3.8/site-packages (from sphinx>=1.6.5->numpydoc>=1.1.0->dglgo) (1.0.2)\n",
      "Requirement already satisfied: sphinxcontrib-devhelp in /home/ec2-user/anaconda3/envs/pytorch_p38/lib/python3.8/site-packages (from sphinx>=1.6.5->numpydoc>=1.1.0->dglgo) (1.0.2)\n",
      "Requirement already satisfied: sphinxcontrib-jsmath in /home/ec2-user/anaconda3/envs/pytorch_p38/lib/python3.8/site-packages (from sphinx>=1.6.5->numpydoc>=1.1.0->dglgo) (1.0.1)\n",
      "Requirement already satisfied: snowballstemmer>=1.1 in /home/ec2-user/anaconda3/envs/pytorch_p38/lib/python3.8/site-packages (from sphinx>=1.6.5->numpydoc>=1.1.0->dglgo) (2.2.0)\n",
      "Requirement already satisfied: babel>=1.3 in /home/ec2-user/anaconda3/envs/pytorch_p38/lib/python3.8/site-packages (from sphinx>=1.6.5->numpydoc>=1.1.0->dglgo) (2.9.1)\n",
      "Requirement already satisfied: Pygments>=2.0 in /home/ec2-user/anaconda3/envs/pytorch_p38/lib/python3.8/site-packages (from sphinx>=1.6.5->numpydoc>=1.1.0->dglgo) (2.10.0)\n",
      "Requirement already satisfied: pytz>=2015.7 in /home/ec2-user/anaconda3/envs/pytorch_p38/lib/python3.8/site-packages (from babel>=1.3->sphinx>=1.6.5->numpydoc>=1.1.0->dglgo) (2021.3)\n",
      "Requirement already satisfied: pyparsing!=3.0.5,>=2.0.2 in /home/ec2-user/anaconda3/envs/pytorch_p38/lib/python3.8/site-packages (from packaging->sphinx>=1.6.5->numpydoc>=1.1.0->dglgo) (3.0.6)\n",
      "Installing collected packages: ruamel.yaml.clib, pydantic, pycodestyle, ruamel.yaml, dgl, autopep8, dglgo\n",
      "  Attempting uninstall: pydantic\n",
      "    Found existing installation: pydantic 1.8.2\n",
      "    Uninstalling pydantic-1.8.2:\n",
      "      Successfully uninstalled pydantic-1.8.2\n",
      "  Attempting uninstall: pycodestyle\n",
      "    Found existing installation: pycodestyle 2.6.0\n",
      "    Uninstalling pycodestyle-2.6.0:\n",
      "      Successfully uninstalled pycodestyle-2.6.0\n",
      "  Attempting uninstall: autopep8\n",
      "    Found existing installation: autopep8 1.5.6\n",
      "    Uninstalling autopep8-1.5.6:\n",
      "      Successfully uninstalled autopep8-1.5.6\n",
      "\u001b[31mERROR: pip's dependency resolver does not currently take into account all the packages that are installed. This behaviour is the source of the following dependency conflicts.\n",
      "thinc 8.0.15 requires pydantic!=1.8,!=1.8.1,<1.9.0,>=1.7.4, but you have pydantic 1.9.1 which is incompatible.\n",
      "spacy 3.2.3 requires pydantic!=1.8,!=1.8.1,<1.9.0,>=1.7.4, but you have pydantic 1.9.1 which is incompatible.\n",
      "flake8 3.8.4 requires pycodestyle<2.7.0,>=2.6.0a1, but you have pycodestyle 2.8.0 which is incompatible.\u001b[0m\u001b[31m\n",
      "\u001b[0mSuccessfully installed autopep8-1.6.0 dgl-0.8.2 dglgo-0.0.1 pycodestyle-2.8.0 pydantic-1.9.1 ruamel.yaml-0.17.21 ruamel.yaml.clib-0.2.6\n",
      "\u001b[33mWARNING: You are using pip version 22.0.4; however, version 22.1.2 is available.\n",
      "You should consider upgrading via the '/home/ec2-user/anaconda3/envs/pytorch_p38/bin/python -m pip install --upgrade pip' command.\u001b[0m\u001b[33m\n",
      "\u001b[0m"
     ]
    }
   ],
   "source": [
    "!pip install dgl dglgo -f https://data.dgl.ai/wheels/repo.html # CPU"
   ]
  },
  {
   "cell_type": "code",
   "execution_count": 44,
   "id": "9070f7e3",
   "metadata": {
    "collapsed": true,
    "jupyter": {
     "outputs_hidden": true
    }
   },
   "outputs": [
    {
     "name": "stdout",
     "output_type": "stream",
     "text": [
      "Looking in indexes: https://pypi.org/simple, https://pip.repos.neuron.amazonaws.com\n",
      "Collecting dgllife\n",
      "  Downloading dgllife-0.2.9.tar.gz (138 kB)\n",
      "\u001b[2K     \u001b[90m━━━━━━━━━━━━━━━━━━━━━━━━━━━━━━━━━━━━━━━\u001b[0m \u001b[32m138.9/138.9 KB\u001b[0m \u001b[31m4.5 MB/s\u001b[0m eta \u001b[36m0:00:00\u001b[0m\n",
      "\u001b[?25h  Preparing metadata (setup.py) ... \u001b[?25ldone\n",
      "\u001b[?25hRequirement already satisfied: scikit-learn>=0.22.2 in /home/ec2-user/anaconda3/envs/pytorch_p38/lib/python3.8/site-packages (from dgllife) (1.0.1)\n",
      "Requirement already satisfied: pandas in /home/ec2-user/anaconda3/envs/pytorch_p38/lib/python3.8/site-packages (from dgllife) (1.3.4)\n",
      "Requirement already satisfied: requests>=2.22.0 in /home/ec2-user/anaconda3/envs/pytorch_p38/lib/python3.8/site-packages (from dgllife) (2.26.0)\n",
      "Requirement already satisfied: tqdm in /home/ec2-user/anaconda3/envs/pytorch_p38/lib/python3.8/site-packages (from dgllife) (4.62.3)\n",
      "Requirement already satisfied: numpy>=1.14.0 in /home/ec2-user/anaconda3/envs/pytorch_p38/lib/python3.8/site-packages (from dgllife) (1.21.2)\n",
      "Requirement already satisfied: scipy>=1.1.0 in /home/ec2-user/anaconda3/envs/pytorch_p38/lib/python3.8/site-packages (from dgllife) (1.7.2)\n",
      "Requirement already satisfied: networkx>=2.1 in /home/ec2-user/anaconda3/envs/pytorch_p38/lib/python3.8/site-packages (from dgllife) (2.6.3)\n",
      "Collecting hyperopt\n",
      "  Downloading hyperopt-0.2.7-py2.py3-none-any.whl (1.6 MB)\n",
      "\u001b[2K     \u001b[90m━━━━━━━━━━━━━━━━━━━━━━━━━━━━━━━━━━━━━━━━\u001b[0m \u001b[32m1.6/1.6 MB\u001b[0m \u001b[31m18.4 MB/s\u001b[0m eta \u001b[36m0:00:00\u001b[0m00:01\u001b[0m00:01\u001b[0m\n",
      "\u001b[?25hRequirement already satisfied: joblib in /home/ec2-user/anaconda3/envs/pytorch_p38/lib/python3.8/site-packages (from dgllife) (1.1.0)\n",
      "Requirement already satisfied: urllib3<1.27,>=1.21.1 in /home/ec2-user/anaconda3/envs/pytorch_p38/lib/python3.8/site-packages (from requests>=2.22.0->dgllife) (1.26.8)\n",
      "Requirement already satisfied: certifi>=2017.4.17 in /home/ec2-user/anaconda3/envs/pytorch_p38/lib/python3.8/site-packages (from requests>=2.22.0->dgllife) (2021.10.8)\n",
      "Requirement already satisfied: idna<4,>=2.5 in /home/ec2-user/anaconda3/envs/pytorch_p38/lib/python3.8/site-packages (from requests>=2.22.0->dgllife) (3.1)\n",
      "Requirement already satisfied: charset-normalizer~=2.0.0 in /home/ec2-user/anaconda3/envs/pytorch_p38/lib/python3.8/site-packages (from requests>=2.22.0->dgllife) (2.0.7)\n",
      "Requirement already satisfied: threadpoolctl>=2.0.0 in /home/ec2-user/anaconda3/envs/pytorch_p38/lib/python3.8/site-packages (from scikit-learn>=0.22.2->dgllife) (3.0.0)\n",
      "Requirement already satisfied: py4j in /home/ec2-user/anaconda3/envs/pytorch_p38/lib/python3.8/site-packages (from hyperopt->dgllife) (0.10.9)\n",
      "Requirement already satisfied: future in /home/ec2-user/anaconda3/envs/pytorch_p38/lib/python3.8/site-packages (from hyperopt->dgllife) (0.18.2)\n",
      "Requirement already satisfied: cloudpickle in /home/ec2-user/anaconda3/envs/pytorch_p38/lib/python3.8/site-packages (from hyperopt->dgllife) (2.0.0)\n",
      "Requirement already satisfied: six in /home/ec2-user/anaconda3/envs/pytorch_p38/lib/python3.8/site-packages (from hyperopt->dgllife) (1.16.0)\n",
      "Requirement already satisfied: python-dateutil>=2.7.3 in /home/ec2-user/anaconda3/envs/pytorch_p38/lib/python3.8/site-packages (from pandas->dgllife) (2.8.2)\n",
      "Requirement already satisfied: pytz>=2017.3 in /home/ec2-user/anaconda3/envs/pytorch_p38/lib/python3.8/site-packages (from pandas->dgllife) (2021.3)\n",
      "Building wheels for collected packages: dgllife\n",
      "  Building wheel for dgllife (setup.py) ... \u001b[?25ldone\n",
      "\u001b[?25h  Created wheel for dgllife: filename=dgllife-0.2.9-py3-none-any.whl size=219058 sha256=7a8e11e9467453fa3fb9255c006a09bf0a53419d4e82de944cea5d77dff7f88c\n",
      "  Stored in directory: /home/ec2-user/.cache/pip/wheels/46/54/a3/ef7d72bda8e3345f5568be4c827533bd1d7c9406222866750e\n",
      "Successfully built dgllife\n",
      "Installing collected packages: hyperopt, dgllife\n",
      "Successfully installed dgllife-0.2.9 hyperopt-0.2.7\n",
      "\u001b[33mWARNING: You are using pip version 22.0.4; however, version 22.1.2 is available.\n",
      "You should consider upgrading via the '/home/ec2-user/anaconda3/envs/pytorch_p38/bin/python -m pip install --upgrade pip' command.\u001b[0m\u001b[33m\n",
      "\u001b[0m"
     ]
    }
   ],
   "source": [
    "!pip install dgllife"
   ]
  },
  {
   "cell_type": "markdown",
   "id": "384a3d67",
   "metadata": {},
   "source": [
    "## 1. Download and prepare dataset\n",
    "\n",
    "We use the [OpenVaccine data hosted on Kaggle](https://www.kaggle.com/competitions/stanford-covid-vaccine/overview).  "
   ]
  },
  {
   "cell_type": "code",
   "execution_count": 1,
   "id": "22f95142",
   "metadata": {},
   "outputs": [],
   "source": [
    "!mkdir -p OpenVaccine"
   ]
  },
  {
   "cell_type": "code",
   "execution_count": 2,
   "id": "961df833",
   "metadata": {},
   "outputs": [],
   "source": [
    "train_file = 'OpenVaccine/train.json'\n",
    "test_file = 'OpenVaccine/test.json'"
   ]
  },
  {
   "cell_type": "code",
   "execution_count": 3,
   "id": "af7e62ea",
   "metadata": {},
   "outputs": [],
   "source": [
    "from typing import Tuple, Iterator\n",
    "\n",
    "import pandas as pd\n",
    "import numpy as np\n",
    "import matplotlib.pylab as plt\n",
    "import json\n",
    "import seaborn as sns\n",
    "import os\n",
    "import random\n",
    "from tqdm.notebook import tqdm\n",
    "\n",
    "from sklearn.model_selection import train_test_split, KFold, StratifiedKFold\n",
    "\n",
    "import torch\n",
    "import torch.nn as nn\n",
    "from torch.utils import data\n",
    "from torch.nn import functional as F\n",
    "from torch.optim import lr_scheduler\n",
    "\n",
    "import dgl"
   ]
  },
  {
   "cell_type": "code",
   "execution_count": 4,
   "id": "4765168c",
   "metadata": {},
   "outputs": [],
   "source": [
    "pred_cols = ['reactivity', 'deg_Mg_pH10', 'deg_pH10', 'deg_Mg_50C', 'deg_50C']\n",
    "\n",
    "token_to_idx = {\n",
    "    'sequence': {x:i for i, x in enumerate('ACGU')}, # residue_to_idx\n",
    "    'structure': {x:i for i, x in enumerate('().')},\n",
    "    'predicted_loop_type': {x:i for i, x in enumerate('BEHIMSX')},\n",
    "}\n",
    "\n",
    "def get_couples(structure):\n",
    "    \"\"\"\n",
    "    For each closing parenthesis, I find the matching opening one and store their index in the couples list.\n",
    "    The assigned list is used to keep track of the assigned opening parenthesis\n",
    "    \"\"\"\n",
    "    opened = [idx for idx, i in enumerate(structure) if i == '(']\n",
    "    closed = [idx for idx, i in enumerate(structure) if i == ')']\n",
    "\n",
    "    assert len(opened) == len(closed)\n",
    "    assigned = []\n",
    "    couples = []\n",
    "\n",
    "    for close_idx in closed:\n",
    "        for open_idx in opened:\n",
    "            if open_idx < close_idx:\n",
    "                if open_idx not in assigned:\n",
    "                    candidate = open_idx\n",
    "            else:\n",
    "                break\n",
    "        assigned.append(candidate)\n",
    "        couples.append([candidate, close_idx])\n",
    "        \n",
    "    assert len(couples) == len(opened)\n",
    "    return couples\n",
    "\n",
    "\n",
    "def build_edge_list(couples: list, size: int) -> tuple:\n",
    "    '''\n",
    "    Build edge list representation of the grap from `couples`, the output \n",
    "    of `get_couples`. The output of this function will be used to for \n",
    "    constructing dgl graph. \n",
    "    '''\n",
    "    src, dst = [], []\n",
    "    for i in range(size):\n",
    "        if i < size - 1:\n",
    "            # neigbouring bases are linked as well\n",
    "            src.append(i), \n",
    "            dst.append(i + 1)\n",
    "        if i > 0:\n",
    "            src.append(i)\n",
    "            dst.append(i - 1)\n",
    "    \n",
    "    for i, j in couples:\n",
    "        src.extend([i, j])\n",
    "        dst.extend([j, i])\n",
    "    \n",
    "    return src, dst\n",
    "\n",
    "def row_to_graph(row: pd.Series) -> dgl.DGLGraph:\n",
    "    '''\n",
    "    Process a row in the RNA data frame and convert to\n",
    "    a dgl.DGLGraph object.\n",
    "    '''\n",
    "    couples = get_couples(row['structure'])\n",
    "    edge_list = build_edge_list(couples, len(row['structure']))\n",
    "    # build a dgl.graph\n",
    "    g = dgl.graph(edge_list)\n",
    "    # one-hot encoding for three types of node features\n",
    "    node_features = []\n",
    "    for node_feature_col in token_to_idx:\n",
    "        # for each node, perform categorical encoding \n",
    "        node_feature = torch.tensor([token_to_idx[node_feature_col][x] for x in row[node_feature_col]])\n",
    "        # then convert to one-hot\n",
    "        node_feature = F.one_hot(node_feature, num_classes=len(token_to_idx[node_feature_col]))\n",
    "        node_features.append(node_feature)\n",
    "    node_features = torch.cat(node_features, axis=1)\n",
    "    # attach as node features \n",
    "    g.ndata['h'] = node_features.to(torch.float32)\n",
    "    return g"
   ]
  },
  {
   "cell_type": "code",
   "execution_count": 5,
   "id": "b228446f",
   "metadata": {},
   "outputs": [],
   "source": [
    "class RNADataset(data.Dataset):\n",
    "    '''mRNA stability prediction dataset'''\n",
    "    def __init__(self, df, pred_cols=['reactivity', 'deg_Mg_pH10', 'deg_pH10', 'deg_Mg_50C', 'deg_50C'], is_train=True):\n",
    "        self.df = df\n",
    "        self.pred_cols = pred_cols\n",
    "        self.n_outputs = len(pred_cols)\n",
    "        self.is_train = is_train\n",
    "    \n",
    "    def __len__(self):\n",
    "        return self.df.shape[0]\n",
    "    \n",
    "    def __getitem__(self, idx):\n",
    "        row = self.df.iloc[idx]\n",
    "        g = row_to_graph(row)\n",
    "        \n",
    "        if self.is_train:\n",
    "            target = np.array(row[self.pred_cols].values.tolist()).T\n",
    "            target = torch.tensor(target, dtype=torch.float32) # shape: (n_labeled_nodes, len(pred_cols))\n",
    "\n",
    "            n_labeled_nodes = target.shape[0]\n",
    "            n_nodes = g.num_nodes()\n",
    "\n",
    "            node_labels = torch.zeros([n_nodes, len(self.pred_cols)], dtype=torch.float32)        \n",
    "            node_labels[:n_labeled_nodes] = target\n",
    "            g.ndata['target'] = node_labels # shape: (n_nodes, len(pred_cols))\n",
    "\n",
    "            train_mask = torch.zeros(n_nodes, dtype=torch.bool)\n",
    "            train_mask[:n_labeled_nodes] = True        \n",
    "            g.ndata['train_mask'] = train_mask # shape: (n_nodes, )        \n",
    "        return g\n",
    "\n",
    "    @property\n",
    "    def feature_dim(self):\n",
    "        g = self.__getitem__(0)\n",
    "        return g.ndata['h'].shape[1]"
   ]
  },
  {
   "cell_type": "code",
   "execution_count": 6,
   "id": "4902b57d",
   "metadata": {},
   "outputs": [
    {
     "name": "stdout",
     "output_type": "stream",
     "text": [
      "(2400, 19) (3634, 7)\n"
     ]
    }
   ],
   "source": [
    "# parse the data into data frames\n",
    "train = pd.read_json(train_file, lines=True)\n",
    "test = pd.read_json(test_file, lines=True)\n",
    "print(train.shape, test.shape)"
   ]
  },
  {
   "cell_type": "code",
   "execution_count": 7,
   "id": "5c5528e3",
   "metadata": {},
   "outputs": [
    {
     "data": {
      "text/plain": [
       "Index(['index', 'id', 'sequence', 'structure', 'predicted_loop_type',\n",
       "       'signal_to_noise', 'SN_filter', 'seq_length', 'seq_scored',\n",
       "       'reactivity_error', 'deg_error_Mg_pH10', 'deg_error_pH10',\n",
       "       'deg_error_Mg_50C', 'deg_error_50C', 'reactivity', 'deg_Mg_pH10',\n",
       "       'deg_pH10', 'deg_Mg_50C', 'deg_50C'],\n",
       "      dtype='object')"
      ]
     },
     "execution_count": 7,
     "metadata": {},
     "output_type": "execute_result"
    }
   ],
   "source": [
    "train.columns"
   ]
  },
  {
   "cell_type": "code",
   "execution_count": 8,
   "id": "7a7c48fb",
   "metadata": {},
   "outputs": [
    {
     "data": {
      "text/html": [
       "<div>\n",
       "<style scoped>\n",
       "    .dataframe tbody tr th:only-of-type {\n",
       "        vertical-align: middle;\n",
       "    }\n",
       "\n",
       "    .dataframe tbody tr th {\n",
       "        vertical-align: top;\n",
       "    }\n",
       "\n",
       "    .dataframe thead th {\n",
       "        text-align: right;\n",
       "    }\n",
       "</style>\n",
       "<table border=\"1\" class=\"dataframe\">\n",
       "  <thead>\n",
       "    <tr style=\"text-align: right;\">\n",
       "      <th></th>\n",
       "      <th>index</th>\n",
       "      <th>id</th>\n",
       "      <th>sequence</th>\n",
       "      <th>structure</th>\n",
       "      <th>predicted_loop_type</th>\n",
       "      <th>signal_to_noise</th>\n",
       "      <th>SN_filter</th>\n",
       "      <th>seq_length</th>\n",
       "      <th>seq_scored</th>\n",
       "      <th>reactivity_error</th>\n",
       "      <th>deg_error_Mg_pH10</th>\n",
       "      <th>deg_error_pH10</th>\n",
       "      <th>deg_error_Mg_50C</th>\n",
       "      <th>deg_error_50C</th>\n",
       "      <th>reactivity</th>\n",
       "      <th>deg_Mg_pH10</th>\n",
       "      <th>deg_pH10</th>\n",
       "      <th>deg_Mg_50C</th>\n",
       "      <th>deg_50C</th>\n",
       "    </tr>\n",
       "  </thead>\n",
       "  <tbody>\n",
       "    <tr>\n",
       "      <th>0</th>\n",
       "      <td>0</td>\n",
       "      <td>id_001f94081</td>\n",
       "      <td>GGAAAAGCUCUAAUAACAGGAGACUAGGACUACGUAUUUCUAGGUA...</td>\n",
       "      <td>.....((((((.......)))).)).((.....((..((((((......</td>\n",
       "      <td>EEEEESSSSSSHHHHHHHSSSSBSSXSSIIIIISSIISSSSSSHHH...</td>\n",
       "      <td>6.894</td>\n",
       "      <td>1</td>\n",
       "      <td>107</td>\n",
       "      <td>68</td>\n",
       "      <td>[0.1359, 0.20700000000000002, 0.1633, 0.1452, ...</td>\n",
       "      <td>[0.26130000000000003, 0.38420000000000004, 0.1...</td>\n",
       "      <td>[0.2631, 0.28600000000000003, 0.0964, 0.1574, ...</td>\n",
       "      <td>[0.1501, 0.275, 0.0947, 0.18660000000000002, 0...</td>\n",
       "      <td>[0.2167, 0.34750000000000003, 0.188, 0.2124, 0...</td>\n",
       "      <td>[0.3297, 1.5693000000000001, 1.1227, 0.8686, 0...</td>\n",
       "      <td>[0.7556, 2.983, 0.2526, 1.3789, 0.637600000000...</td>\n",
       "      <td>[2.3375, 3.5060000000000002, 0.3008, 1.0108, 0...</td>\n",
       "      <td>[0.35810000000000003, 2.9683, 0.2589, 1.4552, ...</td>\n",
       "      <td>[0.6382, 3.4773, 0.9988, 1.3228, 0.78770000000...</td>\n",
       "    </tr>\n",
       "    <tr>\n",
       "      <th>1</th>\n",
       "      <td>1</td>\n",
       "      <td>id_0049f53ba</td>\n",
       "      <td>GGAAAAAGCGCGCGCGGUUAGCGCGCGCUUUUGCGCGCGCUGUACC...</td>\n",
       "      <td>.....(((((((((((((((((((((((....)))))))))).)))...</td>\n",
       "      <td>EEEEESSSSSSSSSSSSSSSSSSSSSSSHHHHSSSSSSSSSSBSSS...</td>\n",
       "      <td>0.193</td>\n",
       "      <td>0</td>\n",
       "      <td>107</td>\n",
       "      <td>68</td>\n",
       "      <td>[2.8272, 2.8272, 2.8272, 4.7343, 2.5676, 2.567...</td>\n",
       "      <td>[73705.3985, 73705.3985, 73705.3985, 73705.398...</td>\n",
       "      <td>[10.1986, 9.2418, 5.0933, 5.0933, 5.0933, 5.09...</td>\n",
       "      <td>[16.6174, 13.868, 8.1968, 8.1968, 8.1968, 8.19...</td>\n",
       "      <td>[15.4857, 7.9596, 13.3957, 5.8777, 5.8777, 5.8...</td>\n",
       "      <td>[0.0, 0.0, 0.0, 2.2965, 0.0, 0.0, 0.0, 0.0, 0....</td>\n",
       "      <td>[0.0, 0.0, 0.0, 0.0, 0.0, 0.0, 0.0, 0.0, 0.0, ...</td>\n",
       "      <td>[4.947, 4.4523, 0.0, 0.0, 0.0, 0.0, 0.0, 0.0, ...</td>\n",
       "      <td>[4.8511, 4.0426, 0.0, 0.0, 0.0, 0.0, 0.0, 0.0,...</td>\n",
       "      <td>[7.6692, 0.0, 10.9561, 0.0, 0.0, 0.0, 0.0, 0.0...</td>\n",
       "    </tr>\n",
       "    <tr>\n",
       "      <th>2</th>\n",
       "      <td>2</td>\n",
       "      <td>id_006f36f57</td>\n",
       "      <td>GGAAAGUGCUCAGAUAAGCUAAGCUCGAAUAGCAAUCGAAUAGAAU...</td>\n",
       "      <td>.....((((.((.....((((.(((.....)))..((((......)...</td>\n",
       "      <td>EEEEESSSSISSIIIIISSSSMSSSHHHHHSSSMMSSSSHHHHHHS...</td>\n",
       "      <td>8.800</td>\n",
       "      <td>1</td>\n",
       "      <td>107</td>\n",
       "      <td>68</td>\n",
       "      <td>[0.0931, 0.13290000000000002, 0.11280000000000...</td>\n",
       "      <td>[0.1365, 0.2237, 0.1812, 0.1333, 0.1148, 0.160...</td>\n",
       "      <td>[0.17020000000000002, 0.178, 0.111, 0.091, 0.0...</td>\n",
       "      <td>[0.1033, 0.1464, 0.1126, 0.09620000000000001, ...</td>\n",
       "      <td>[0.14980000000000002, 0.1761, 0.1517, 0.116700...</td>\n",
       "      <td>[0.44820000000000004, 1.4822, 1.1819, 0.743400...</td>\n",
       "      <td>[0.2504, 1.4021, 0.9804, 0.49670000000000003, ...</td>\n",
       "      <td>[2.243, 2.9361, 1.0553, 0.721, 0.6396000000000...</td>\n",
       "      <td>[0.5163, 1.6823000000000001, 1.0426, 0.7902, 0...</td>\n",
       "      <td>[0.9501000000000001, 1.7974999999999999, 1.499...</td>\n",
       "    </tr>\n",
       "    <tr>\n",
       "      <th>3</th>\n",
       "      <td>3</td>\n",
       "      <td>id_0082d463b</td>\n",
       "      <td>GGAAAAGCGCGCGCGCGCGCGCGAAAAAGCGCGCGCGCGCGCGCGC...</td>\n",
       "      <td>......((((((((((((((((......))))))))))))))))((...</td>\n",
       "      <td>EEEEEESSSSSSSSSSSSSSSSHHHHHHSSSSSSSSSSSSSSSSSS...</td>\n",
       "      <td>0.104</td>\n",
       "      <td>0</td>\n",
       "      <td>107</td>\n",
       "      <td>68</td>\n",
       "      <td>[3.5229, 6.0748, 3.0374, 3.0374, 3.0374, 3.037...</td>\n",
       "      <td>[73705.3985, 73705.3985, 73705.3985, 73705.398...</td>\n",
       "      <td>[11.8007, 12.7566, 5.7733, 5.7733, 5.7733, 5.7...</td>\n",
       "      <td>[121286.7181, 121286.7182, 121286.7181, 121286...</td>\n",
       "      <td>[15.3995, 8.1124, 7.7824, 7.7824, 7.7824, 7.78...</td>\n",
       "      <td>[0.0, 2.2399, 0.0, 0.0, 0.0, 0.0, 0.0, 0.0, 0....</td>\n",
       "      <td>[0.0, -0.5083, 0.0, 0.0, 0.0, 0.0, 0.0, 0.0, 0...</td>\n",
       "      <td>[3.4248, 6.8128, 0.0, 0.0, 0.0, 0.0, 0.0, 0.0,...</td>\n",
       "      <td>[0.0, -0.8365, 0.0, 0.0, 0.0, 0.0, 0.0, 0.0, 0...</td>\n",
       "      <td>[7.6692, -1.3223, 0.0, 0.0, 0.0, 0.0, 0.0, 0.0...</td>\n",
       "    </tr>\n",
       "    <tr>\n",
       "      <th>4</th>\n",
       "      <td>4</td>\n",
       "      <td>id_0087940f4</td>\n",
       "      <td>GGAAAAUAUAUAAUAUAUUAUAUAAAUAUAUUAUAGAAGUAUAAUA...</td>\n",
       "      <td>.....(((((((.((((((((((((.(((((((((....)))))))...</td>\n",
       "      <td>EEEEESSSSSSSBSSSSSSSSSSSSBSSSSSSSSSHHHHSSSSSSS...</td>\n",
       "      <td>0.423</td>\n",
       "      <td>0</td>\n",
       "      <td>107</td>\n",
       "      <td>68</td>\n",
       "      <td>[1.665, 2.1728, 2.0041, 1.2405, 0.620200000000...</td>\n",
       "      <td>[4.2139, 3.9637000000000002, 3.2467, 2.4716, 1...</td>\n",
       "      <td>[3.0942, 3.015, 2.1212, 2.0552, 0.881500000000...</td>\n",
       "      <td>[2.6717, 2.4818, 1.9919, 2.5484999999999998, 1...</td>\n",
       "      <td>[1.3285, 3.6173, 1.3057, 1.3021, 1.1507, 1.150...</td>\n",
       "      <td>[0.8267, 2.6577, 2.8481, 0.40090000000000003, ...</td>\n",
       "      <td>[2.1058, 3.138, 2.5437000000000003, 1.0932, 0....</td>\n",
       "      <td>[4.7366, 4.6243, 1.2068, 1.1538, 0.0, 0.0, 0.7...</td>\n",
       "      <td>[2.2052, 1.7947000000000002, 0.7457, 3.1233, 0...</td>\n",
       "      <td>[0.0, 5.1198, -0.3551, -0.3518, 0.0, 0.0, 0.0,...</td>\n",
       "    </tr>\n",
       "  </tbody>\n",
       "</table>\n",
       "</div>"
      ],
      "text/plain": [
       "   index            id                                           sequence  \\\n",
       "0      0  id_001f94081  GGAAAAGCUCUAAUAACAGGAGACUAGGACUACGUAUUUCUAGGUA...   \n",
       "1      1  id_0049f53ba  GGAAAAAGCGCGCGCGGUUAGCGCGCGCUUUUGCGCGCGCUGUACC...   \n",
       "2      2  id_006f36f57  GGAAAGUGCUCAGAUAAGCUAAGCUCGAAUAGCAAUCGAAUAGAAU...   \n",
       "3      3  id_0082d463b  GGAAAAGCGCGCGCGCGCGCGCGAAAAAGCGCGCGCGCGCGCGCGC...   \n",
       "4      4  id_0087940f4  GGAAAAUAUAUAAUAUAUUAUAUAAAUAUAUUAUAGAAGUAUAAUA...   \n",
       "\n",
       "                                           structure  \\\n",
       "0  .....((((((.......)))).)).((.....((..((((((......   \n",
       "1  .....(((((((((((((((((((((((....)))))))))).)))...   \n",
       "2  .....((((.((.....((((.(((.....)))..((((......)...   \n",
       "3  ......((((((((((((((((......))))))))))))))))((...   \n",
       "4  .....(((((((.((((((((((((.(((((((((....)))))))...   \n",
       "\n",
       "                                 predicted_loop_type  signal_to_noise  \\\n",
       "0  EEEEESSSSSSHHHHHHHSSSSBSSXSSIIIIISSIISSSSSSHHH...            6.894   \n",
       "1  EEEEESSSSSSSSSSSSSSSSSSSSSSSHHHHSSSSSSSSSSBSSS...            0.193   \n",
       "2  EEEEESSSSISSIIIIISSSSMSSSHHHHHSSSMMSSSSHHHHHHS...            8.800   \n",
       "3  EEEEEESSSSSSSSSSSSSSSSHHHHHHSSSSSSSSSSSSSSSSSS...            0.104   \n",
       "4  EEEEESSSSSSSBSSSSSSSSSSSSBSSSSSSSSSHHHHSSSSSSS...            0.423   \n",
       "\n",
       "   SN_filter  seq_length  seq_scored  \\\n",
       "0          1         107          68   \n",
       "1          0         107          68   \n",
       "2          1         107          68   \n",
       "3          0         107          68   \n",
       "4          0         107          68   \n",
       "\n",
       "                                    reactivity_error  \\\n",
       "0  [0.1359, 0.20700000000000002, 0.1633, 0.1452, ...   \n",
       "1  [2.8272, 2.8272, 2.8272, 4.7343, 2.5676, 2.567...   \n",
       "2  [0.0931, 0.13290000000000002, 0.11280000000000...   \n",
       "3  [3.5229, 6.0748, 3.0374, 3.0374, 3.0374, 3.037...   \n",
       "4  [1.665, 2.1728, 2.0041, 1.2405, 0.620200000000...   \n",
       "\n",
       "                                   deg_error_Mg_pH10  \\\n",
       "0  [0.26130000000000003, 0.38420000000000004, 0.1...   \n",
       "1  [73705.3985, 73705.3985, 73705.3985, 73705.398...   \n",
       "2  [0.1365, 0.2237, 0.1812, 0.1333, 0.1148, 0.160...   \n",
       "3  [73705.3985, 73705.3985, 73705.3985, 73705.398...   \n",
       "4  [4.2139, 3.9637000000000002, 3.2467, 2.4716, 1...   \n",
       "\n",
       "                                      deg_error_pH10  \\\n",
       "0  [0.2631, 0.28600000000000003, 0.0964, 0.1574, ...   \n",
       "1  [10.1986, 9.2418, 5.0933, 5.0933, 5.0933, 5.09...   \n",
       "2  [0.17020000000000002, 0.178, 0.111, 0.091, 0.0...   \n",
       "3  [11.8007, 12.7566, 5.7733, 5.7733, 5.7733, 5.7...   \n",
       "4  [3.0942, 3.015, 2.1212, 2.0552, 0.881500000000...   \n",
       "\n",
       "                                    deg_error_Mg_50C  \\\n",
       "0  [0.1501, 0.275, 0.0947, 0.18660000000000002, 0...   \n",
       "1  [16.6174, 13.868, 8.1968, 8.1968, 8.1968, 8.19...   \n",
       "2  [0.1033, 0.1464, 0.1126, 0.09620000000000001, ...   \n",
       "3  [121286.7181, 121286.7182, 121286.7181, 121286...   \n",
       "4  [2.6717, 2.4818, 1.9919, 2.5484999999999998, 1...   \n",
       "\n",
       "                                       deg_error_50C  \\\n",
       "0  [0.2167, 0.34750000000000003, 0.188, 0.2124, 0...   \n",
       "1  [15.4857, 7.9596, 13.3957, 5.8777, 5.8777, 5.8...   \n",
       "2  [0.14980000000000002, 0.1761, 0.1517, 0.116700...   \n",
       "3  [15.3995, 8.1124, 7.7824, 7.7824, 7.7824, 7.78...   \n",
       "4  [1.3285, 3.6173, 1.3057, 1.3021, 1.1507, 1.150...   \n",
       "\n",
       "                                          reactivity  \\\n",
       "0  [0.3297, 1.5693000000000001, 1.1227, 0.8686, 0...   \n",
       "1  [0.0, 0.0, 0.0, 2.2965, 0.0, 0.0, 0.0, 0.0, 0....   \n",
       "2  [0.44820000000000004, 1.4822, 1.1819, 0.743400...   \n",
       "3  [0.0, 2.2399, 0.0, 0.0, 0.0, 0.0, 0.0, 0.0, 0....   \n",
       "4  [0.8267, 2.6577, 2.8481, 0.40090000000000003, ...   \n",
       "\n",
       "                                         deg_Mg_pH10  \\\n",
       "0  [0.7556, 2.983, 0.2526, 1.3789, 0.637600000000...   \n",
       "1  [0.0, 0.0, 0.0, 0.0, 0.0, 0.0, 0.0, 0.0, 0.0, ...   \n",
       "2  [0.2504, 1.4021, 0.9804, 0.49670000000000003, ...   \n",
       "3  [0.0, -0.5083, 0.0, 0.0, 0.0, 0.0, 0.0, 0.0, 0...   \n",
       "4  [2.1058, 3.138, 2.5437000000000003, 1.0932, 0....   \n",
       "\n",
       "                                            deg_pH10  \\\n",
       "0  [2.3375, 3.5060000000000002, 0.3008, 1.0108, 0...   \n",
       "1  [4.947, 4.4523, 0.0, 0.0, 0.0, 0.0, 0.0, 0.0, ...   \n",
       "2  [2.243, 2.9361, 1.0553, 0.721, 0.6396000000000...   \n",
       "3  [3.4248, 6.8128, 0.0, 0.0, 0.0, 0.0, 0.0, 0.0,...   \n",
       "4  [4.7366, 4.6243, 1.2068, 1.1538, 0.0, 0.0, 0.7...   \n",
       "\n",
       "                                          deg_Mg_50C  \\\n",
       "0  [0.35810000000000003, 2.9683, 0.2589, 1.4552, ...   \n",
       "1  [4.8511, 4.0426, 0.0, 0.0, 0.0, 0.0, 0.0, 0.0,...   \n",
       "2  [0.5163, 1.6823000000000001, 1.0426, 0.7902, 0...   \n",
       "3  [0.0, -0.8365, 0.0, 0.0, 0.0, 0.0, 0.0, 0.0, 0...   \n",
       "4  [2.2052, 1.7947000000000002, 0.7457, 3.1233, 0...   \n",
       "\n",
       "                                             deg_50C  \n",
       "0  [0.6382, 3.4773, 0.9988, 1.3228, 0.78770000000...  \n",
       "1  [7.6692, 0.0, 10.9561, 0.0, 0.0, 0.0, 0.0, 0.0...  \n",
       "2  [0.9501000000000001, 1.7974999999999999, 1.499...  \n",
       "3  [7.6692, -1.3223, 0.0, 0.0, 0.0, 0.0, 0.0, 0.0...  \n",
       "4  [0.0, 5.1198, -0.3551, -0.3518, 0.0, 0.0, 0.0,...  "
      ]
     },
     "execution_count": 8,
     "metadata": {},
     "output_type": "execute_result"
    }
   ],
   "source": [
    "train.head()"
   ]
  },
  {
   "cell_type": "code",
   "execution_count": 9,
   "id": "53821426",
   "metadata": {},
   "outputs": [
    {
     "data": {
      "text/plain": [
       "Index(['index', 'id', 'sequence', 'structure', 'predicted_loop_type',\n",
       "       'seq_length', 'seq_scored'],\n",
       "      dtype='object')"
      ]
     },
     "execution_count": 9,
     "metadata": {},
     "output_type": "execute_result"
    }
   ],
   "source": [
    "test.columns"
   ]
  },
  {
   "cell_type": "code",
   "execution_count": 10,
   "id": "d57a1890",
   "metadata": {},
   "outputs": [
    {
     "data": {
      "text/html": [
       "<div>\n",
       "<style scoped>\n",
       "    .dataframe tbody tr th:only-of-type {\n",
       "        vertical-align: middle;\n",
       "    }\n",
       "\n",
       "    .dataframe tbody tr th {\n",
       "        vertical-align: top;\n",
       "    }\n",
       "\n",
       "    .dataframe thead th {\n",
       "        text-align: right;\n",
       "    }\n",
       "</style>\n",
       "<table border=\"1\" class=\"dataframe\">\n",
       "  <thead>\n",
       "    <tr style=\"text-align: right;\">\n",
       "      <th></th>\n",
       "      <th>index</th>\n",
       "      <th>id</th>\n",
       "      <th>sequence</th>\n",
       "      <th>structure</th>\n",
       "      <th>predicted_loop_type</th>\n",
       "      <th>seq_length</th>\n",
       "      <th>seq_scored</th>\n",
       "    </tr>\n",
       "  </thead>\n",
       "  <tbody>\n",
       "    <tr>\n",
       "      <th>0</th>\n",
       "      <td>0</td>\n",
       "      <td>id_00073f8be</td>\n",
       "      <td>GGAAAAGUACGACUUGAGUACGGAAAACGUACCAACUCGAUUAAAA...</td>\n",
       "      <td>......((((((((((.(((((.....))))))))((((((((......</td>\n",
       "      <td>EEEEEESSSSSSSSSSBSSSSSHHHHHSSSSSSSSSSSSSSSSHHH...</td>\n",
       "      <td>107</td>\n",
       "      <td>68</td>\n",
       "    </tr>\n",
       "    <tr>\n",
       "      <th>1</th>\n",
       "      <td>1</td>\n",
       "      <td>id_000ae4237</td>\n",
       "      <td>GGAAACGGGUUCCGCGGAUUGCUGCUAAUAAGAGUAAUCUCUAAAU...</td>\n",
       "      <td>.....((((..((((((...(((((.....((((....)))).......</td>\n",
       "      <td>EEEEESSSSIISSSSSSIIISSSSSIIIIISSSSHHHHSSSSIIII...</td>\n",
       "      <td>130</td>\n",
       "      <td>91</td>\n",
       "    </tr>\n",
       "    <tr>\n",
       "      <th>2</th>\n",
       "      <td>2</td>\n",
       "      <td>id_00131c573</td>\n",
       "      <td>GGAAAACAAAACGGCCUGGAAGACGAAGGAAUUCGGCGCGAAGGCC...</td>\n",
       "      <td>...........((.(((.(.(..((..((..((((...))))..))...</td>\n",
       "      <td>EEEEEEEEEEESSISSSISISIISSIISSIISSSSHHHSSSSIISS...</td>\n",
       "      <td>107</td>\n",
       "      <td>68</td>\n",
       "    </tr>\n",
       "    <tr>\n",
       "      <th>3</th>\n",
       "      <td>3</td>\n",
       "      <td>id_00181fd34</td>\n",
       "      <td>GGAAAGGAUCUCUAUCGAAGGAUAGAGAUCGCUCGCGACGGCACGA...</td>\n",
       "      <td>......((((((((((....))))))))))((((((..((.(((.....</td>\n",
       "      <td>EEEEEESSSSSSSSSSHHHHSSSSSSSSSSSSSSSSIISSISSSHH...</td>\n",
       "      <td>107</td>\n",
       "      <td>68</td>\n",
       "    </tr>\n",
       "    <tr>\n",
       "      <th>4</th>\n",
       "      <td>4</td>\n",
       "      <td>id_0020473f7</td>\n",
       "      <td>GGAAACCCGCCCGCGCCCGCCCGCGCUGCUGCCGUGCCUCCUCUCC...</td>\n",
       "      <td>.....(((((((((((((((((((((((((((((((((((((((((...</td>\n",
       "      <td>EEEEESSSSSSSSSSSSSSSSSSSSSSSSSSSSSSSSSSSSSSSSS...</td>\n",
       "      <td>130</td>\n",
       "      <td>91</td>\n",
       "    </tr>\n",
       "  </tbody>\n",
       "</table>\n",
       "</div>"
      ],
      "text/plain": [
       "   index            id                                           sequence  \\\n",
       "0      0  id_00073f8be  GGAAAAGUACGACUUGAGUACGGAAAACGUACCAACUCGAUUAAAA...   \n",
       "1      1  id_000ae4237  GGAAACGGGUUCCGCGGAUUGCUGCUAAUAAGAGUAAUCUCUAAAU...   \n",
       "2      2  id_00131c573  GGAAAACAAAACGGCCUGGAAGACGAAGGAAUUCGGCGCGAAGGCC...   \n",
       "3      3  id_00181fd34  GGAAAGGAUCUCUAUCGAAGGAUAGAGAUCGCUCGCGACGGCACGA...   \n",
       "4      4  id_0020473f7  GGAAACCCGCCCGCGCCCGCCCGCGCUGCUGCCGUGCCUCCUCUCC...   \n",
       "\n",
       "                                           structure  \\\n",
       "0  ......((((((((((.(((((.....))))))))((((((((......   \n",
       "1  .....((((..((((((...(((((.....((((....)))).......   \n",
       "2  ...........((.(((.(.(..((..((..((((...))))..))...   \n",
       "3  ......((((((((((....))))))))))((((((..((.(((.....   \n",
       "4  .....(((((((((((((((((((((((((((((((((((((((((...   \n",
       "\n",
       "                                 predicted_loop_type  seq_length  seq_scored  \n",
       "0  EEEEEESSSSSSSSSSBSSSSSHHHHHSSSSSSSSSSSSSSSSHHH...         107          68  \n",
       "1  EEEEESSSSIISSSSSSIIISSSSSIIIIISSSSHHHHSSSSIIII...         130          91  \n",
       "2  EEEEEEEEEEESSISSSISISIISSIISSIISSSSHHHSSSSIISS...         107          68  \n",
       "3  EEEEEESSSSSSSSSSHHHHSSSSSSSSSSSSSSSSIISSISSSHH...         107          68  \n",
       "4  EEEEESSSSSSSSSSSSSSSSSSSSSSSSSSSSSSSSSSSSSSSSS...         130          91  "
      ]
     },
     "execution_count": 10,
     "metadata": {},
     "output_type": "execute_result"
    }
   ],
   "source": [
    "test.head()"
   ]
  },
  {
   "cell_type": "code",
   "execution_count": 11,
   "id": "beb6d8dc",
   "metadata": {},
   "outputs": [
    {
     "name": "stdout",
     "output_type": "stream",
     "text": [
      "2400 3634\n"
     ]
    }
   ],
   "source": [
    "train_dataset = RNADataset(train)\n",
    "test_dataset = RNADataset(test, is_train=False)\n",
    "print(len(train_dataset), len(test_dataset))"
   ]
  },
  {
   "cell_type": "code",
   "execution_count": 12,
   "id": "61848401",
   "metadata": {},
   "outputs": [
    {
     "data": {
      "text/plain": [
       "Graph(num_nodes=107, num_edges=258,\n",
       "      ndata_schemes={'h': Scheme(shape=(14,), dtype=torch.float32), 'target': Scheme(shape=(5,), dtype=torch.float32), 'train_mask': Scheme(shape=(), dtype=torch.bool)}\n",
       "      edata_schemes={})"
      ]
     },
     "execution_count": 12,
     "metadata": {},
     "output_type": "execute_result"
    }
   ],
   "source": [
    "# Look at one RNA graph in the dataset:\n",
    "i = 0\n",
    "g = train_dataset[i]\n",
    "g"
   ]
  },
  {
   "cell_type": "code",
   "execution_count": 13,
   "id": "5aeeb313",
   "metadata": {},
   "outputs": [
    {
     "name": "stdout",
     "output_type": "stream",
     "text": [
      "Shape of node features: torch.Size([107, 14])\n"
     ]
    },
    {
     "data": {
      "text/plain": [
       "tensor([[0., 0., 1.,  ..., 0., 0., 0.],\n",
       "        [0., 0., 1.,  ..., 0., 0., 0.],\n",
       "        [1., 0., 0.,  ..., 0., 0., 0.],\n",
       "        ...,\n",
       "        [1., 0., 0.,  ..., 0., 0., 0.],\n",
       "        [1., 0., 0.,  ..., 0., 0., 0.],\n",
       "        [0., 1., 0.,  ..., 0., 0., 0.]])"
      ]
     },
     "execution_count": 13,
     "metadata": {},
     "output_type": "execute_result"
    }
   ],
   "source": [
    "print('Shape of node features:', g.ndata['h'].shape)\n",
    "g.ndata['h']"
   ]
  },
  {
   "cell_type": "code",
   "execution_count": 14,
   "id": "7cabd28c",
   "metadata": {},
   "outputs": [
    {
     "name": "stdout",
     "output_type": "stream",
     "text": [
      "Shape of node targets: torch.Size([107, 5])\n",
      "labels: ['reactivity', 'deg_Mg_pH10', 'deg_pH10', 'deg_Mg_50C', 'deg_50C']\n"
     ]
    },
    {
     "data": {
      "text/plain": [
       "tensor([[0.3297, 0.7556, 2.3375, 0.3581, 0.6382],\n",
       "        [1.5693, 2.9830, 3.5060, 2.9683, 3.4773],\n",
       "        [1.1227, 0.2526, 0.3008, 0.2589, 0.9988],\n",
       "        [0.8686, 1.3789, 1.0108, 1.4552, 1.3228],\n",
       "        [0.7217, 0.6376, 0.2635, 0.7244, 0.7877],\n",
       "        [0.4384, 0.3313, 0.3403, 0.4971, 0.5890],\n",
       "        [0.2560, 0.6763, 0.5617, 0.3819, 0.5231],\n",
       "        [0.3364, 0.7525, 0.6810, 0.9115, 1.0125],\n",
       "        [0.2168, 0.2080, 0.0530, 0.1668, 0.0585],\n",
       "        [0.3583, 0.8908, 0.5348, 1.0613, 0.7349]])"
      ]
     },
     "execution_count": 14,
     "metadata": {},
     "output_type": "execute_result"
    }
   ],
   "source": [
    "print('Shape of node targets:', g.ndata['target'].shape)\n",
    "print('labels:', train_dataset.pred_cols)\n",
    "g.ndata['target'][:10]"
   ]
  },
  {
   "cell_type": "markdown",
   "id": "a45e12cf",
   "metadata": {},
   "source": [
    "### 1.2. Visualize an individual RNA molecule"
   ]
  },
  {
   "cell_type": "code",
   "execution_count": 15,
   "id": "df871282",
   "metadata": {},
   "outputs": [],
   "source": [
    "import networkx as nx\n",
    "import matplotlib.pyplot as plt\n",
    "import seaborn as sns"
   ]
  },
  {
   "cell_type": "code",
   "execution_count": 16,
   "id": "7f1856d4",
   "metadata": {},
   "outputs": [
    {
     "name": "stdout",
     "output_type": "stream",
     "text": [
      "GGAAAAGCUCUAAUAACAGGAGACUAGGACUACGUAUUUCUAGGUAACUGGAAUAACCCAUACCAGCAGUUAGAGUUCGCUCUAACAAAAGAAACAACAACAACAAC\n",
      "EEEEESSSSSSHHHHHHHSSSSBSSXSSIIIIISSIISSSSSSHHHHSSSSSSIISSIIIIISSXXXXSSSSSSSHHHHSSSSSSSEEEEEEEEEEEEEEEEEEEEE\n",
      "107 129\n"
     ]
    }
   ],
   "source": [
    "# get the raw features from the data frame:\n",
    "seq = train.loc[i, 'sequence']\n",
    "print(seq)\n",
    "predicted_loop_type = train.loc[i, 'predicted_loop_type']\n",
    "print(predicted_loop_type)\n",
    "structure = train.loc[i, 'structure']\n",
    "\n",
    "# convert to an undirected networkx graph\n",
    "mol_graph = dgl.to_networkx(g).to_undirected()\n",
    "print(mol_graph.number_of_nodes(), mol_graph.number_of_edges())"
   ]
  },
  {
   "cell_type": "code",
   "execution_count": 17,
   "id": "2fde803d",
   "metadata": {},
   "outputs": [
    {
     "data": {
      "image/png": "[encoded data removed]",
      "text/plain": [
       "<Figure size 432x288 with 1 Axes>"
      ]
     },
     "metadata": {},
     "output_type": "display_data"
    }
   ],
   "source": [
    "pos = nx.spring_layout(mol_graph)\n",
    "nx.draw(mol_graph, pos)"
   ]
  },
  {
   "cell_type": "code",
   "execution_count": 18,
   "id": "9ff64c30",
   "metadata": {},
   "outputs": [
    {
     "data": {
      "image/png": "[encoded data removed]",
      "text/plain": [
       "<Figure size 432x288 with 1 Axes>"
      ]
     },
     "metadata": {},
     "output_type": "display_data"
    }
   ],
   "source": [
    "n_residues = mol_graph.number_of_nodes()\n",
    "\n",
    "# label nodes by the index and residue type\n",
    "numbered_seq = ['%d%s'%(idx, letter) for idx, letter in zip(range(n_residues), seq)]\n",
    "node_labels = dict(zip(range(n_residues), numbered_seq))\n",
    "\n",
    "# color by predicted_loop_type\n",
    "color_palette = sns.color_palette()\n",
    "node_colors = [color_palette[token_to_idx['predicted_loop_type'][loop_type]] for loop_type in predicted_loop_type]\n",
    "\n",
    "nx.draw(mol_graph, pos, \n",
    "        labels=node_labels,\n",
    "        node_color=node_colors\n",
    "       )"
   ]
  },
  {
   "cell_type": "code",
   "execution_count": 19,
   "id": "fde598c1",
   "metadata": {},
   "outputs": [
    {
     "data": {
      "image/png": "[encoded data removed]",
      "text/plain": [
       "<Figure size 432x288 with 1 Axes>"
      ]
     },
     "metadata": {},
     "output_type": "display_data"
    }
   ],
   "source": [
    "# color by reactivity\n",
    "reactivities = train.loc[i, 'reactivity'].copy()\n",
    "# fill 0's for trailing residues\n",
    "reactivities.extend([0] * (n_residues - len(reactivities)))\n",
    "\n",
    "nx.draw(mol_graph, pos, \n",
    "        labels=node_labels,\n",
    "        node_color=reactivities,\n",
    "        cmap='Reds'\n",
    "       )"
   ]
  },
  {
   "cell_type": "markdown",
   "id": "e499e27e",
   "metadata": {},
   "source": [
    "## 2. Define GNN model"
   ]
  },
  {
   "cell_type": "code",
   "execution_count": 20,
   "id": "701ca7e5",
   "metadata": {},
   "outputs": [
    {
     "name": "stdout",
     "output_type": "stream",
     "text": [
      "RDKit is not installed, which is required for utils related to cheminformatics\n"
     ]
    }
   ],
   "source": [
    "from dgllife.model import GCN\n",
    "# from dgllife.model.gnn.gcn import GCNLayer"
   ]
  },
  {
   "cell_type": "code",
   "execution_count": 22,
   "id": "4e5dfdc2",
   "metadata": {},
   "outputs": [],
   "source": [
    "model_config = {\n",
    "    'num_layers': 2,\n",
    "    'hidden_feats': 8,\n",
    "    'dropout': 0.2,\n",
    "    'residual': False,\n",
    "    'batchnorm': False,\n",
    "}\n",
    "\n",
    "device = torch.device('cuda') if torch.cuda.is_available() else torch.device('cpu') "
   ]
  },
  {
   "cell_type": "code",
   "execution_count": 23,
   "id": "f0d6c9be",
   "metadata": {},
   "outputs": [
    {
     "data": {
      "text/plain": [
       "GCN(\n",
       "  (gnn_layers): ModuleList(\n",
       "    (0): GCNLayer(\n",
       "      (graph_conv): GraphConv(in=14, out=8, normalization=none, activation=<function relu at 0x7f31a7a25d30>)\n",
       "      (dropout): Dropout(p=0.2, inplace=False)\n",
       "    )\n",
       "    (1): GCNLayer(\n",
       "      (graph_conv): GraphConv(in=8, out=5, normalization=none, activation=None)\n",
       "      (dropout): Dropout(p=0, inplace=False)\n",
       "    )\n",
       "  )\n",
       ")"
      ]
     },
     "execution_count": 23,
     "metadata": {},
     "output_type": "execute_result"
    }
   ],
   "source": [
    "model = GCN(\n",
    "    in_feats=train_dataset.feature_dim,\n",
    "    hidden_feats=[model_config['hidden_feats'] for _ in range(model_config['num_layers'] - 1)] + [train_dataset.n_outputs],\n",
    "    activation=[F.relu for _ in range(model_config['num_layers'] - 1)] + [None],\n",
    "    residual=[model_config['residual'] for _ in range(model_config['num_layers'])],\n",
    "    batchnorm=[model_config['batchnorm'] for _ in range(model_config['num_layers'])],\n",
    "    dropout=[model_config['dropout'] for _ in range(model_config['num_layers'] - 1)] + [0]\n",
    ").to(device)\n",
    "model"
   ]
  },
  {
   "cell_type": "markdown",
   "id": "f5d7f704",
   "metadata": {},
   "source": [
    "## 3. Train/validation split"
   ]
  },
  {
   "cell_type": "code",
   "execution_count": 24,
   "id": "8c2138b9",
   "metadata": {},
   "outputs": [
    {
     "name": "stdout",
     "output_type": "stream",
     "text": [
      "(1920,) (480,)\n"
     ]
    }
   ],
   "source": [
    "train_config = {\n",
    "    'frac_train': 0.8,\n",
    "    'lr': 1e-3,\n",
    "    'n_epochs': 5,\n",
    "    'batch_size': 128,\n",
    "    'num_workers': 2,\n",
    "    'seed': 42\n",
    "}\n",
    "\n",
    "N = train.shape[0]\n",
    "train_idx = np.random.choice(N, int(train_config['frac_train'] * N), replace=False)\n",
    "valid_idx = np.setdiff1d(np.arange(N), train_idx)\n",
    "print(train_idx.shape, valid_idx.shape)"
   ]
  },
  {
   "cell_type": "code",
   "execution_count": 25,
   "id": "4319dd12",
   "metadata": {},
   "outputs": [
    {
     "name": "stdout",
     "output_type": "stream",
     "text": [
      "1920 480\n"
     ]
    }
   ],
   "source": [
    "train_dataset = RNADataset(train.iloc[train_idx])\n",
    "train_loader = data.DataLoader(train_dataset, \n",
    "                               batch_size=train_config['batch_size'], \n",
    "                               shuffle=True, \n",
    "                               num_workers=train_config['num_workers'], \n",
    "                               collate_fn=dgl.batch\n",
    "                              )\n",
    "\n",
    "valid_dataset = RNADataset(train.iloc[valid_idx])\n",
    "valid_loader = data.DataLoader(valid_dataset, \n",
    "                               batch_size=train_config['batch_size'], \n",
    "                               shuffle=False, \n",
    "                               num_workers=train_config['num_workers'], \n",
    "                               collate_fn=dgl.batch\n",
    "                              )\n",
    "\n",
    "print(len(train_dataset), len(valid_dataset))"
   ]
  },
  {
   "cell_type": "code",
   "execution_count": 26,
   "id": "16f55a25",
   "metadata": {},
   "outputs": [],
   "source": [
    "def train_fn(model, train_loader, criterion, optimizer, device):\n",
    "    '''Train model for one epoch'''\n",
    "    model.train()\n",
    "    model.zero_grad()\n",
    "    train_loss = []\n",
    "    \n",
    "    for index, graphs in enumerate(train_loader):\n",
    "        graphs = graphs.to(device)\n",
    "        preds = model(graphs, graphs.ndata['h'])\n",
    "        train_mask = graphs.ndata['train_mask']\n",
    "        targets = graphs.ndata['target']\n",
    "        \n",
    "        loss = criterion(preds[train_mask], targets[train_mask])\n",
    "        \n",
    "        optimizer.zero_grad()\n",
    "        loss.backward()\n",
    "        optimizer.step()\n",
    "        \n",
    "        train_loss.append(loss.item())\n",
    "    \n",
    "    train_loss_avg = np.mean(train_loss)\n",
    "    print(f\"Train loss {train_loss_avg}\")\n",
    "    return train_loss_avg\n",
    "    \n",
    "def eval_fn(model, valid_loader, criterion, device):\n",
    "    '''Evaluate model'''\n",
    "    model.eval()\n",
    "    eval_loss = []\n",
    "    \n",
    "    for index, graphs in enumerate(valid_loader):\n",
    "        graphs = graphs.to(device)\n",
    "        preds = model(graphs, graphs.ndata['h'])\n",
    "        train_mask = graphs.ndata['train_mask']\n",
    "        targets = graphs.ndata['target']\n",
    "        \n",
    "        loss = criterion(preds[train_mask], targets[train_mask])\n",
    "        eval_loss.append(loss.item())\n",
    "    \n",
    "    eval_loss_avg = np.mean(eval_loss)\n",
    "    print(f\"Valid loss {eval_loss_avg}\")\n",
    "    return eval_loss_avg\n"
   ]
  },
  {
   "cell_type": "code",
   "execution_count": 27,
   "id": "25dcdf91",
   "metadata": {},
   "outputs": [
    {
     "name": "stdout",
     "output_type": "stream",
     "text": [
      "#################\n",
      "###Epoch: 0\n"
     ]
    },
    {
     "name": "stderr",
     "output_type": "stream",
     "text": [
      "/home/ec2-user/anaconda3/envs/pytorch_p38/lib/python3.8/site-packages/torch/autocast_mode.py:141: UserWarning: User provided device_type of 'cuda', but CUDA is not available. Disabling\n",
      "  warnings.warn('User provided device_type of \\'cuda\\', but CUDA is not available. Disabling')\n"
     ]
    },
    {
     "name": "stdout",
     "output_type": "stream",
     "text": [
      "Train loss 2.164072887102763\n",
      "Valid loss 1.9474070072174072\n",
      "#################\n",
      "###Epoch: 1\n",
      "Train loss 1.7787424325942993\n",
      "Valid loss 1.6698491275310516\n",
      "#################\n",
      "###Epoch: 2\n",
      "Train loss 1.5190711935361227\n",
      "Valid loss 1.4955116510391235\n",
      "#################\n",
      "###Epoch: 3\n",
      "Train loss 1.3624665975570678\n",
      "Valid loss 1.386527568101883\n",
      "#################\n",
      "###Epoch: 4\n",
      "Train loss 1.257412052154541\n",
      "Valid loss 1.314500778913498\n"
     ]
    }
   ],
   "source": [
    "criterion = torch.nn.MSELoss()\n",
    "optimizer = torch.optim.Adam(params=model.parameters(), lr=train_config['lr'], weight_decay=0.0)\n",
    "\n",
    "train_losses = []\n",
    "eval_losses = []\n",
    "\n",
    "for epoch in range(train_config['n_epochs']):\n",
    "    print('#################')\n",
    "    print('###Epoch:', epoch)\n",
    "\n",
    "    train_loss = train_fn(model, train_loader, criterion, optimizer, device)\n",
    "    eval_loss = eval_fn(model, valid_loader, criterion, device)\n",
    "    train_losses.append(train_loss)\n",
    "    eval_losses.append(eval_loss)\n"
   ]
  },
  {
   "cell_type": "markdown",
   "id": "2d8afa57",
   "metadata": {},
   "source": [
    "## 4. Prediction on hold-out graphs"
   ]
  },
  {
   "cell_type": "code",
   "execution_count": 28,
   "id": "101d8a8a",
   "metadata": {},
   "outputs": [
    {
     "data": {
      "text/plain": [
       "Graph(num_nodes=107, num_edges=272,\n",
       "      ndata_schemes={'h': Scheme(shape=(14,), dtype=torch.float32)}\n",
       "      edata_schemes={})"
      ]
     },
     "execution_count": 28,
     "metadata": {},
     "output_type": "execute_result"
    }
   ],
   "source": [
    "test_graph = test_dataset[0]\n",
    "test_graph"
   ]
  },
  {
   "cell_type": "code",
   "execution_count": 29,
   "id": "997687f0",
   "metadata": {},
   "outputs": [
    {
     "data": {
      "text/plain": [
       "torch.Size([107, 5])"
      ]
     },
     "execution_count": 29,
     "metadata": {},
     "output_type": "execute_result"
    }
   ],
   "source": [
    "model.eval()\n",
    "predicted_node_labels = model(test_graph, test_graph.ndata['h'])\n",
    "predicted_node_labels.shape"
   ]
  },
  {
   "cell_type": "code",
   "execution_count": null,
   "id": "73b11d19",
   "metadata": {},
   "outputs": [],
   "source": []
  }
 ],
 "metadata": {
  "kernelspec": {
   "display_name": "conda_pytorch_p38",
   "language": "python",
   "name": "conda_pytorch_p38"
  },
  "language_info": {
   "codemirror_mode": {
    "name": "ipython",
    "version": 3
   },
   "file_extension": ".py",
   "mimetype": "text/x-python",
   "name": "python",
   "nbconvert_exporter": "python",
   "pygments_lexer": "ipython3",
   "version": "3.8.12"
  }
 },
 "nbformat": 4,
 "nbformat_minor": 5
}
